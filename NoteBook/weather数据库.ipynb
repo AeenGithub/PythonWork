{
 "cells": [
  {
   "cell_type": "code",
   "execution_count": 13,
   "metadata": {},
   "outputs": [],
   "source": [
    "import pandas as pd\n",
    "import numpy as np\n",
    "import sqlite3 as mysql\n",
    "import time\n",
    "import re\n",
    "from datetime import datetime"
   ]
  },
  {
   "cell_type": "code",
   "execution_count": 14,
   "metadata": {},
   "outputs": [],
   "source": [
    "conn = mysql.connect(r\"D:\\SQLBASE\\weather.db\")"
   ]
  },
  {
   "cell_type": "code",
   "execution_count": 15,
   "metadata": {},
   "outputs": [],
   "source": [
    "cur = conn.cursor()"
   ]
  },
  {
   "cell_type": "code",
   "execution_count": 16,
   "metadata": {},
   "outputs": [],
   "source": [
    "cur.execute('select count(ymd) from history_tem_right_20110101_20181225')\n",
    "total_rows = cur.fetchone()[0]"
   ]
  },
  {
   "cell_type": "code",
   "execution_count": 17,
   "metadata": {},
   "outputs": [],
   "source": [
    "conn2 = mysql.connect(r\"D:\\SQLBASE\\WeatherBefore.db\")\n",
    "curs = conn2.cursor()"
   ]
  },
  {
   "cell_type": "code",
   "execution_count": 6,
   "metadata": {},
   "outputs": [],
   "source": [
    "cur.execute('select * from history_tem_right_20110101_20181225')\n",
    "col_name_list = [tuple[0] for tuple in cur.description]\n",
    "for index in range(1, total_rows+1):\n",
    "    million_piece = cur.fetchmany(1000000)\n",
    "    if index < 1000000:\n",
    "        continue\n",
    "    one_piece_dict = dict(zip(col_name_list, one_piece))\n",
    "    if one_piece_dict['city'] is not None:\n",
    "        one_piece_dict['city_ymd'] = one_piece_dict['city'] + '-' + str(one_piece_dict['ymd'])\n",
    "        ymd_time = datetime.strptime(str(one_piece_dict['ymd']), '%Y%m%d')\n",
    "        one_piece_dict['year'] = str(one_piece_dict['year'])\n",
    "        one_piece_dict['month'] = str(one_piece_dict['ymd'])[4:-2]\n",
    "        one_piece_dict['day'] = str(one_piece_dict['ymd'])[-2:]\n",
    "        try:\n",
    "            one_piece_dict['ave_tm'] = float(one_piece_dict['ave_tm'])\n",
    "        except:\n",
    "            one_piece_dict['ave_tm'] = np.NaN\n",
    "        one_piece_dict['weekday'] = ymd_time.isoweekday()\n",
    "        one_piece_df = pd.DataFrame(one_piece_dict, index=[0])\n",
    "        try:\n",
    "            print(index, '正在写入\\n')\n",
    "            one_piece_df.to_sql(\n",
    "                name='WeatherAll',\n",
    "                con=conn2,\n",
    "                chunksize=1000000,\n",
    "                if_exists = 'append',\n",
    "                index=False,\n",
    "                )\n",
    "        except mysql.IntegrityError as e:\n",
    "            print('数据已经写过，跳过\\n', e)\n",
    "            continue"
   ]
  },
  {
   "cell_type": "code",
   "execution_count": 18,
   "metadata": {},
   "outputs": [],
   "source": [
    "million_piece = cur.fetchmany(1000000)"
   ]
  },
  {
   "cell_type": "code",
   "execution_count": 19,
   "metadata": {},
   "outputs": [
    {
     "data": {
      "text/plain": "[]"
     },
     "execution_count": 19,
     "metadata": {},
     "output_type": "execute_result"
    }
   ],
   "source": [
    "million_piece"
   ]
  },
  {
   "cell_type": "code",
   "execution_count": 0,
   "metadata": {},
   "outputs": [],
   "source": [
    "conn2.commit()"
   ]
  },
  {
   "cell_type": "code",
   "execution_count": 0,
   "metadata": {},
   "outputs": [],
   "source": [
    "conn2.close()"
   ]
  },
  {
   "cell_type": "code",
   "execution_count": 0,
   "metadata": {},
   "outputs": [],
   "source": [
    "del all_data"
   ]
  },
  {
   "cell_type": "code",
   "execution_count": null,
   "metadata": {},
   "outputs": [],
   "source": []
  }
 ],
 "metadata": {
  "kernelspec": {
   "display_name": "Python 3",
   "language": "python",
   "name": "python3"
  },
  "language_info": {
   "codemirror_mode": {
    "name": "ipython",
    "version": 3
   },
   "file_extension": ".py",
   "mimetype": "text/x-python",
   "name": "python",
   "nbconvert_exporter": "python",
   "pygments_lexer": "ipython3",
   "version": "3.7.3"
  }
 },
 "nbformat": 4,
 "nbformat_minor": 2
}