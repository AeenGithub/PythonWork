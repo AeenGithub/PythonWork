{
 "cells": [
  {
   "cell_type": "code",
   "execution_count": 1,
   "metadata": {
    "collapsed": true
   },
   "outputs": [],
   "source": [
    "import pandas as pd\n",
    "import csv\n",
    "import re\n",
    "import jieba\n",
    "import time\n",
    "from jieba import analyse\n",
    "from collections import OrderedDict"
   ]
  },
  {
   "cell_type": "code",
   "execution_count": 2,
   "metadata": {
    "collapsed": true
   },
   "outputs": [],
   "source": [
    "all_lst = []\n",
    "with open(r\"D:\\文档\\天猫\\store_of_Tmall_201808141052.csv\", 'r', encoding='gbk') as f:\n",
    "    csv_reader = csv.DictReader(f)\n",
    "    for row in csv_reader:\n",
    "        all_lst.append(row)"
   ]
  },
  {
   "cell_type": "code",
   "execution_count": 354,
   "metadata": {},
   "outputs": [],
   "source": [
    "df = pd.read_excel(r\"D:\\文档\\天猫\\ME&CITY折扣服装.xls\")"
   ]
  },
  {
   "cell_type": "code",
   "execution_count": 390,
   "metadata": {},
   "outputs": [
    {
     "data": {
      "text/plain": [
       "Index(['store_name', 'ID ', 'title', '价格', '初始价格', '折后价格', '当月销量', '累计销量',\n",
       "       '上市年份季节', '厚薄',\n",
       "       ...\n",
       "       'sell_img', 'none_brand_title', '小类', '中类', '大类', 'jieba', 'title简称',\n",
       "       '名词', '性别', '季节'],\n",
       "      dtype='object', length=121)"
      ]
     },
     "execution_count": 390,
     "metadata": {},
     "output_type": "execute_result"
    }
   ],
   "source": [
    "# df = pd.DataFrame(all_lst)\n",
    "df.rename(columns={'标题': 'title', '名称':'store_name'}, inplace=True)\n",
    "df.columns"
   ]
  },
  {
   "cell_type": "code",
   "execution_count": 391,
   "metadata": {
    "collapsed": true
   },
   "outputs": [],
   "source": [
    "df['title'] = df['title'].str.replace('Polo衫', 'POLO衫')"
   ]
  },
  {
   "cell_type": "code",
   "execution_count": 392,
   "metadata": {
    "collapsed": true
   },
   "outputs": [],
   "source": [
    "df = df[(df['title'].str.find('婴儿') == -1) & (df['title'].str.find('童') == -1) & (~df['title'].str.isdigit())]\n",
    "df = df[(df['title'].str.find('1元入会') == -1) & (df['title'].str.find('太平鸟A') == -1)]"
   ]
  },
  {
   "cell_type": "code",
   "execution_count": 393,
   "metadata": {},
   "outputs": [],
   "source": [
    "jieba.load_userdict(r\"D:\\文档\\天猫\\服装字典\")"
   ]
  },
  {
   "cell_type": "code",
   "execution_count": 394,
   "metadata": {
    "collapsed": true
   },
   "outputs": [],
   "source": [
    "df['title'] = df['title'].str.replace('【商场同款】', '')"
   ]
  },
  {
   "cell_type": "code",
   "execution_count": 395,
   "metadata": {
    "collapsed": true
   },
   "outputs": [],
   "source": [
    "# df['title'] = df['title'] .str.extract(brand_shop, expand=False)[2]\n",
    "# df['title']\n",
    "df['none_brand_title'] = df['title'].str.extract(brand_shop, expand=True)[1]\n",
    "# df[df['none_brand_title'].isnull()][['none_brand_title','store_name', 'title']]\n",
    "\n",
    "df.loc[df.index[df['none_brand_title'].isnull()], ['none_brand_title']] = df.loc[df.index[df['none_brand_title'].isnull()], ['title']].values\n",
    "df.loc[df.index[df['none_brand_title'] == ''], ['none_brand_title']] = df.loc[df.index[df['none_brand_title'] == ''], ['title']].values\n",
    "df.loc[df.index[df['none_brand_title'].str.count('') < 10], ['none_brand_title']] = df.loc[df.index[df['none_brand_title'].str.count('') < 10], ['title']].values"
   ]
  },
  {
   "cell_type": "code",
   "execution_count": 396,
   "metadata": {
    "collapsed": true
   },
   "outputs": [],
   "source": [
    "df['小类'] = ''\n",
    "df['中类'] = ''\n",
    "df['大类'] = ''"
   ]
  },
  {
   "cell_type": "code",
   "execution_count": 397,
   "metadata": {
    "collapsed": true
   },
   "outputs": [],
   "source": [
    "# df['title_rank'] = df['none_brand_title'].apply(lambda x: list(jieba.cut(x)))"
   ]
  },
  {
   "cell_type": "code",
   "execution_count": 398,
   "metadata": {},
   "outputs": [],
   "source": [
    "# patt = r'裙|裤|袜|衫|马|连|腰|胸|环|护|毯|冰|西|羽绒|套|夹|链|鞋|牛仔|饰|围|袋|衣|恤|POLO|皮|克|帽|服|盒|包|带|结|褛|巾|棒|罩|雨|\\\n",
    "# 手机|心|袍|唐|靴|袖|镜|挂|枕|衬|阔腿|利领|床|杯|卫衣|风衣|毛衣|大衣|连衣|棉衣'\n",
    "# df['title_rank'][1689]"
   ]
  },
  {
   "cell_type": "code",
   "execution_count": 399,
   "metadata": {},
   "outputs": [],
   "source": [
    "# df[df['title简称'].str.find('牛仔') != -1]['title简称']\n",
    "df['jieba'] = df['title'].apply(lambda x: list(jieba.posseg.cut(x)))"
   ]
  },
  {
   "cell_type": "code",
   "execution_count": 400,
   "metadata": {},
   "outputs": [],
   "source": [
    "condition = df['jieba'].apply(lambda x: [i.word for i in x if i.flag == 'n' or i.flag == 'nr'])"
   ]
  },
  {
   "cell_type": "code",
   "execution_count": 401,
   "metadata": {},
   "outputs": [],
   "source": [
    "df['title简称'] = (df['jieba'] .apply(lambda x: [i.word for i in x if i.flag == 'nz'])\n",
    "                              .apply(lambda x: set(x))\n",
    "                              .apply(lambda x: [i.replace('体恤', 'T恤') for i in set(x)])\n",
    "                              .apply(lambda x: [i for i in x if x != ' ' and i.isalpha()])\n",
    "                              .apply(lambda x: '|'.join(set(x))))"
   ]
  },
  {
   "cell_type": "code",
   "execution_count": 402,
   "metadata": {},
   "outputs": [],
   "source": [
    "df['名词'] = (df['jieba'].apply(lambda x: [i.word for i in x if i.flag == 'n' or i.flag == 'nr'])\n",
    "                       .apply(lambda x: set(x))\n",
    "                       .apply(lambda x: [i.replace('体恤', 'T恤') for i in set(x)])\n",
    "                       .apply(lambda x: [i for i in x if x != ' ' and i.isalpha()])\n",
    "                       .apply(lambda x: '|'.join(set(x))))"
   ]
  },
  {
   "cell_type": "code",
   "execution_count": 403,
   "metadata": {},
   "outputs": [],
   "source": [
    "rep_val = df.loc[df.index[(df['title简称'] == '')], ['名词']].values\n",
    "df.loc[df.index[(df['title简称'] == '')], ['title简称']] = rep_val"
   ]
  },
  {
   "cell_type": "code",
   "execution_count": 404,
   "metadata": {},
   "outputs": [],
   "source": [
    "# df.loc[(df['title简称'] != ''), ['title简称', 'title']]"
   ]
  },
  {
   "cell_type": "code",
   "execution_count": 405,
   "metadata": {
    "collapsed": true
   },
   "outputs": [],
   "source": [
    "# df['title简称'] = df['none_brand_title'].apply(lambda x: clothe_class.findall(x))"
   ]
  },
  {
   "cell_type": "code",
   "execution_count": 406,
   "metadata": {},
   "outputs": [],
   "source": [
    "# def niuzai(lo):\n",
    "#     if '牛仔' in lo:\n",
    "#         if '短裤' in lo:\n",
    "#             lo.append('牛仔短裤')\n",
    "#         elif '长裤' in lo:\n",
    "#             lo.append('牛仔长裤')\n",
    "#         elif '中裤' in lo:\n",
    "#             lo.append('牛仔中裤')\n",
    "#         elif '休闲' in lo:\n",
    "#             if '外套' in lo:\n",
    "#                 lo.append('外套')\n",
    "#             else:\n",
    "#                 lo.append('牛仔长裤')        \n",
    "#     return lo"
   ]
  },
  {
   "cell_type": "code",
   "execution_count": 407,
   "metadata": {},
   "outputs": [],
   "source": [
    "# df['title简称'] = (df['title_rank'].apply(lambda x: set(x))\n",
    "#                                 .apply(lambda x: [i.replace('体恤', 'T恤') for i in set(x)])\n",
    "#                                 .apply(lambda x: [i for i in x if x != ' ' and i.isalpha()])\n",
    "#                                 .apply(lambda x: niuzai(x))\n",
    "#                                 .apply(lambda x: ''.join(set(x))))"
   ]
  },
  {
   "cell_type": "code",
   "execution_count": 408,
   "metadata": {},
   "outputs": [],
   "source": [
    "# df['title简称'][1689]"
   ]
  },
  {
   "cell_type": "markdown",
   "metadata": {},
   "source": [
    "#### 导入匹配规则表"
   ]
  },
  {
   "cell_type": "code",
   "execution_count": 425,
   "metadata": {
    "collapsed": true
   },
   "outputs": [],
   "source": [
    "mid_rank = []\n",
    "mid_rank_dict = OrderedDict()\n",
    "mid_rank_dict_2 = OrderedDict()\n",
    "mid_rank_dict_3 = OrderedDict()\n",
    "with open(r\"D:\\文档\\天猫\\rule_of_rank\") as f:\n",
    "    skirts = f.read().split('\\n')\n",
    "for one_rank in skirts:\n",
    "    mid_rank.append(one_rank.split('\\t'))\n",
    "    mid_rank_dict[one_rank.split('\\t')[0]] = one_rank.split('\\t')[1]\n",
    "    mid_rank_dict_2[one_rank.split('\\t')[1]] = one_rank.split('\\t')[2]\n",
    "    mid_rank_dict_3[one_rank.split('\\t')[2]] = one_rank.split('\\t')[3]"
   ]
  },
  {
   "cell_type": "code",
   "execution_count": 426,
   "metadata": {
    "collapsed": true,
    "scrolled": true
   },
   "outputs": [],
   "source": [
    "for one_key in mid_rank:\n",
    "    tmall = one_key[0]\n",
    "    res = one_key[1]\n",
    "    df.loc[(df['title简称'].str.find(tmall) != -1), ['小类']] = res"
   ]
  },
  {
   "cell_type": "markdown",
   "metadata": {},
   "source": [
    "#### 生成中类和大类明细"
   ]
  },
  {
   "cell_type": "code",
   "execution_count": 427,
   "metadata": {
    "collapsed": true
   },
   "outputs": [],
   "source": [
    "# for one_key in mid_rank:\n",
    "#     mid_res = one_key[1]\n",
    "#     final_res = one_key[2]\n",
    "#     df.loc[(df['中类'].str.find(mid_res) != -1), ['小类']] = final_res\n",
    "df['中类'] = df['小类'].map(mid_rank_dict_2)"
   ]
  },
  {
   "cell_type": "code",
   "execution_count": 428,
   "metadata": {
    "collapsed": true
   },
   "outputs": [],
   "source": [
    "# for one_key in mid_rank:\n",
    "#     mid_res = one_key[2]\n",
    "#     final_res = one_key[3]\n",
    "#     df.loc[(df['中类'].str.find(mid_res) != -1), ['大类']] = final_res\n",
    "df['大类'] = df['中类'].map(mid_rank_dict_3)"
   ]
  },
  {
   "cell_type": "code",
   "execution_count": 429,
   "metadata": {
    "collapsed": true
   },
   "outputs": [],
   "source": [
    "sex_patt = re.compile(r'男女|男女同款|男|女')\n",
    "quarter_patt = re.compile(r'春|夏|秋|冬|夏秋')"
   ]
  },
  {
   "cell_type": "code",
   "execution_count": 430,
   "metadata": {},
   "outputs": [],
   "source": [
    "df['性别'] = (df['title'].apply(lambda x: sex_patt.findall(x))\n",
    "#                                 .apply(lambda x: set(x))\n",
    "                                .apply(lambda x: '|'.join(set(x)))\n",
    "                                .replace('男|男女', '男女')\n",
    "                                .replace('男|女', '男女'))\n",
    "df['季节'] = (df['title'].apply(lambda x: quarter_patt.findall(x))\n",
    "                                .apply(lambda x: set(x))\n",
    "                                .apply(lambda x: '|'.join(set(x))))\n",
    "# df['性别'].replace('男|男女', '男女', inplace=True)"
   ]
  },
  {
   "cell_type": "markdown",
   "metadata": {},
   "source": [
    "#### 查看性别已经匹配成功的行"
   ]
  },
  {
   "cell_type": "code",
   "execution_count": 431,
   "metadata": {
    "scrolled": false
   },
   "outputs": [
    {
     "data": {
      "text/plain": [
       "女    213\n",
       "男    162\n",
       "       8\n",
       "Name: 性别, dtype: int64"
      ]
     },
     "execution_count": 431,
     "metadata": {},
     "output_type": "execute_result"
    }
   ],
   "source": [
    "# df[((df['性别'] != '女') & (df['性别'] != '男') & (df['性别'] != ''))][['store_name', '性别', 'title']]\n",
    "df['性别'].value_counts()\n",
    "# df[(df['性别'] == '')][['store_name', '性别', 'title']]"
   ]
  },
  {
   "cell_type": "markdown",
   "metadata": {},
   "source": [
    "#### 对性别进行品牌匹配"
   ]
  },
  {
   "cell_type": "code",
   "execution_count": 432,
   "metadata": {
    "collapsed": true
   },
   "outputs": [],
   "source": [
    "with open(r\"C:\\Users\\leshuangjiang\\Desktop\\ppp\") as f:\n",
    "    skirts = [i.split('\\t') for i in f.read().split('\\n')]\n",
    "brand_sex = dict(skirts)"
   ]
  },
  {
   "cell_type": "code",
   "execution_count": 433,
   "metadata": {},
   "outputs": [],
   "source": [
    "df['性别2'] = df['store_name'].map(brand_sex)\n",
    "condition = ((df['性别'] != '女') & (df['性别'] != '男') & (df['性别'] != '男女'))\n",
    "# condition"
   ]
  },
  {
   "cell_type": "code",
   "execution_count": 434,
   "metadata": {},
   "outputs": [],
   "source": [
    "df.loc[df.index[condition], ['性别']] = df.loc[df.index[condition], ['性别2']].values"
   ]
  },
  {
   "cell_type": "code",
   "execution_count": 435,
   "metadata": {},
   "outputs": [
    {
     "data": {
      "text/plain": [
       "女    213\n",
       "男    162\n",
       "Name: 性别, dtype: int64"
      ]
     },
     "execution_count": 435,
     "metadata": {},
     "output_type": "execute_result"
    }
   ],
   "source": [
    "condition_2 = ((df['性别'] == '') & (df['中类'] == '鞋配'))\n",
    "df.loc[df.index[condition_2], ['性别']] = '男女'\n",
    "df.loc[df.index[((df['性别'] == '') & (df['中类'].str.find('裙') != -1))], ['性别']] = '男女'\n",
    "# df.loc[df.index[df['性别'] == ''], ['store_name', 'title']]\n",
    "df['性别'].value_counts()"
   ]
  },
  {
   "cell_type": "code",
   "execution_count": 436,
   "metadata": {},
   "outputs": [
    {
     "data": {
      "text/plain": [
       "Index(['store_name', 'ID ', 'title', '价格', '初始价格', '折后价格', '当月销量', '累计销量',\n",
       "       '上市年份季节', '厚薄',\n",
       "       ...\n",
       "       'none_brand_title', '小类', '中类', '大类', 'jieba', 'title简称', '名词', '性别',\n",
       "       '季节', '性别2'],\n",
       "      dtype='object', length=122)"
      ]
     },
     "execution_count": 436,
     "metadata": {},
     "output_type": "execute_result"
    }
   ],
   "source": [
    "df.columns"
   ]
  },
  {
   "cell_type": "markdown",
   "metadata": {},
   "source": [
    "#### 保存最终结果"
   ]
  },
  {
   "cell_type": "code",
   "execution_count": 437,
   "metadata": {},
   "outputs": [],
   "source": [
    "# df[['分类', 'title简称']]\n",
    "# df[df['分类'] == '']['title简称']\n",
    "# new = df[['store_name', 'sold', 'title', '小类', '中类', '大类', 'title简称', '性别']]\n",
    "new = df.drop(['性别2', 'jieba', '名词', 'none_brand_title'], axis=1)\n",
    "new.to_excel('d:\\\\结果.xls')"
   ]
  },
  {
   "cell_type": "code",
   "execution_count": 383,
   "metadata": {
    "collapsed": true,
    "scrolled": true
   },
   "outputs": [],
   "source": [
    "# for one_item in df['none_brand_title']:\n",
    "# #     string = '.'.join(one_item)\n",
    "#     print(one_item)\n",
    "#     print(clothe_class.findall(one_item))"
   ]
  },
  {
   "cell_type": "code",
   "execution_count": 699,
   "metadata": {
    "collapsed": true
   },
   "outputs": [],
   "source": [
    "# df.loc[(df['title简称'].apply(lambda x: '衫' in x)) & (df['分类'] == '')][['title', '分类']]\n",
    "# df.loc[(df['title简称'].apply(lambda x: '克' in x)) & (df['分类'] == '')][['title','title简称']]"
   ]
  },
  {
   "cell_type": "code",
   "execution_count": 354,
   "metadata": {
    "collapsed": true
   },
   "outputs": [],
   "source": [
    "# clo_patt = re.compile(patt, re.I)"
   ]
  },
  {
   "cell_type": "code",
   "execution_count": 799,
   "metadata": {
    "collapsed": true,
    "scrolled": true
   },
   "outputs": [],
   "source": [
    "# df[df['分类'] != '']['分类']"
   ]
  },
  {
   "cell_type": "code",
   "execution_count": 122,
   "metadata": {
    "collapsed": true
   },
   "outputs": [],
   "source": [
    "brand_shop = r'(太平鸟|麦檬|MG小象|Material girl|me&city女装|me&city男装|美特斯邦威|npc|欧时力|ONLY|太平鸟女装|Aself|\\\n",
    "trendiano|优衣库|UR|VEROMODA|viishow|播|clot|速写|伊芙丽|lily|GU|GXG|gxgjeans|韩都衣舍|海澜之家|茵曼|杰克琼斯|JNBY|江南布衣|\\\n",
    "jucyjudy|kikc|kon|阔色|拉夏贝尔|lilbetter|Lilbetter|Libetter|LILBETTER|毛菇小象|Libette|MG|mg|MECITY|ASELF|TRENDIANO|\\\n",
    "Vero Moda|VIISHOW|gxg|HSPM|LB)(.*)'"
   ]
  },
  {
   "cell_type": "code",
   "execution_count": 128,
   "metadata": {
    "collapsed": true
   },
   "outputs": [],
   "source": [
    "pattern = r'O型裤|POLO|T恤|八分裤|包|保温杯|背带裤|背心|背心吊带|编织衫|便服|便裤|便西|踩脚裤|超短裤|衬衫|衬衣|床单|打底裤|打底衫|\\\n",
    "大衣|道袍|灯笼裤|低裆跨裤|吊带|短裤|短款裤装|短外套|短卫裤|短袖恤|耳环|耳饰|帆布|飞鼠裤|风衣|福袋|格子衫|工装裤|挂绳|哈伦裤|合体喇叭裤|\\\n",
    "护照夹|加绒裤|家居服|家居裤|夹克|紧身裤|颈链|九分裤|开衫|口罩|裤口褶边|裤子|垮裤|阔脚裤|阔腿|喇叭裤|蕾丝衫|礼服|连体|连体短裤|连体裤|\\\n",
    "裙|连衣裤|领带|领结|六分裤|萝卜裤|马夹|马甲|慢跑裤|毛巾|毛衫|毛衣|毛针织衫|帽|棉服|棉裤|棉褛|棉衣|抹胸|内裤|牛仔裤|皮带|皮衣|拼条裤|\\\n",
    "七分裤|铅笔裤|钱夹|茄克|晴雨伞|绒衫|沙滩裤|上衣|上装|手机|手链|束脚|束腿裤|双裤腰|睡裤|睡袍|睡衣|碎花衫|锁骨|唐装|套衫|套头衫|套装|体恤|\\\n",
    "条纹裤|头带|袜|外套|微喇叭裤|微喇加长裤|微喇裤|围巾|卫裤|卫衣|文胸|五分裤|西服|西服套装|西裤|西装|西装裤|线衫|项链|小脚|小脚长裤|小衫|鞋|\\\n",
    "胸针|休闲裤|修身裤装|靴|雪纺衫|腰带|腰封|荧光棒|羽绒服|雨衣|浴巾|圆领|运动|运动裤|运动衫|长裤|长款裤装|长卫裤|褶皱裤|针织裤|针织衫|正装裤|\\\n",
    "直筒|中裤|锥裤|锥形裤|拉链时尚高腰|棒球服|条纹短|底裤|内衣|镜|领巾|袋|挂件|抱枕|裤|宽腿裤|起居裤|蝴蝶衣|长衫|护腿|毯子|手套|护颈|围脖|\\\n",
    "连身裤|挂饰|扎脚裤|绑结腿裤|雪纺衬|女裤|披肩|摆件|恤|衬|夹|休闲|窄口裤|罩衫|牛仔|松紧裤|起居|手环|发带|拖|衫|花式裤|利领|西|冰袖|喇叭袖|\\\n",
    "瘦腿裤|长袖中长款|巾|半身群|围|T|荷叶边|露肩|套|休闲长裤|连衣裙|休闲短裤|休闲中裤|牛仔短裤|牛仔长裤|牛仔中裤'"
   ]
  },
  {
   "cell_type": "code",
   "execution_count": 129,
   "metadata": {
    "collapsed": true
   },
   "outputs": [],
   "source": [
    "# analyse.extract_tags()\n",
    "# analyse.extract_tags()"
   ]
  },
  {
   "cell_type": "code",
   "execution_count": 130,
   "metadata": {
    "collapsed": true
   },
   "outputs": [],
   "source": [
    "clothe_class = re.compile(pattern, re.I)"
   ]
  },
  {
   "cell_type": "code",
   "execution_count": 375,
   "metadata": {
    "collapsed": true
   },
   "outputs": [],
   "source": [
    "# df.loc[df.index[df['title简称'].apply(lambda x: 'POLO' in x)], ['分类']] = 'POLO衫'\n",
    "# df.loc[df.index[(df['title简称'].apply(lambda x: '恤' in x))  & (df['分类'] == '')], ['分类']] = 'T恤'\n",
    "# df.loc[df.index[(df['title简称'].apply(lambda x: '衬' in x))  & (df['分类'] == '')], ['分类']] = '衬衫'\n",
    "# df.loc[df.index[(df['title简称'].apply(lambda x: '卫衣' in x))  & (df['分类'] == '')], ['分类']] = '卫衣'\n",
    "# df.loc[df.index[(df['title简称'].apply(lambda x: '毛衣' in x))  & (df['分类'] == '')], ['分类']] = '毛衣'\n",
    "# df.loc[df.index[(df['title简称'].apply(lambda x: '克' in x and '夹' in x))  & (df['分类'] == '')], ['分类']] = '夹克'\n",
    "# df.loc[df.index[(df['title简称'].apply(lambda x: '棉衣' in x))  & (df['分类'] == '')], ['分类']] = '棉衣'\n",
    "# df.loc[df.index[(df['title简称'].apply(lambda x: '风衣' in x))  & (df['分类'] == '')], ['分类']] = '风衣'\n",
    "# df.loc[df.index[(df['title简称'].apply(lambda x: '大衣' in x))  & (df['分类'] == '')], ['分类']] = '大衣'"
   ]
  },
  {
   "cell_type": "code",
   "execution_count": 801,
   "metadata": {
    "collapsed": true
   },
   "outputs": [],
   "source": [
    "pants_rank = {}\n",
    "with open(r\"D:\\文档\\天猫\\pants\") as f:\n",
    "    pants = f.read().split('\\n')\n",
    "for one_rank in pants:\n",
    "    pants_rank[one_rank] = '裤子'"
   ]
  },
  {
   "cell_type": "code",
   "execution_count": 771,
   "metadata": {
    "collapsed": true
   },
   "outputs": [],
   "source": [
    "pattern_2 = r'O型裤|POLO|T恤|八分裤|包|保温杯|背带裤|背心|背心吊带|编织衫|便服|便裤|便西|踩脚裤|超短裤|衬衫|衬衣|床单|打底裤|打底衫|\\\n",
    "大衣|道袍|灯笼裤|低裆跨裤|吊带|短裤|短款裤装|短外套|短卫裤|短袖恤|耳环|耳饰|帆布|飞鼠裤|风衣|福袋|格子衫|工装裤|挂绳|哈伦裤|合体喇叭裤|\\\n",
    "护照夹|加绒裤|家居服|家居裤|夹克|紧身裤|颈链|九分裤|开衫|口罩|裤口褶边|裤子|垮裤|阔脚裤|阔腿|喇叭裤|蕾丝衫|礼服|连体|连体短裤|连体裤|\\\n",
    "裙|连衣裤|领带|领结|六分裤|萝卜裤|马夹|马甲|慢跑裤|毛巾|毛衫|毛衣|毛针织衫|帽|棉服|棉裤|棉褛|棉衣|抹胸|内裤|牛仔裤|皮带|皮衣|拼条裤|\\\n",
    "七分裤|铅笔裤|钱夹|茄克|晴雨伞|绒衫|沙滩裤|上衣|上装|手机|手链|束脚|束腿裤|双裤腰|睡裤|睡袍|睡衣|碎花衫|锁骨|唐装|套衫|套头衫|套装|体恤|\\\n",
    "条纹裤|头带|袜|外套|微喇叭裤|微喇加长裤|微喇裤|围巾|卫裤|卫衣|文胸|五分裤|西服|西服套装|西裤|西装|西装裤|线衫|项链|小脚|小脚长裤|小衫|鞋|\\\n",
    "胸针|休闲裤|修身裤装|靴|雪纺衫|腰带|腰封|荧光棒|羽绒服|雨衣|浴巾|圆领|运动|运动裤|运动衫|长裤|长款裤装|长卫裤|褶皱裤|针织裤|针织衫|正装裤|\\\n",
    "直筒|中裤|锥裤|锥形裤|拉链时尚高腰|棒球服|条纹短|底裤|内衣|镜|领巾|袋|挂件|抱枕|裤|宽腿裤|起居裤|蝴蝶衣|长衫|护腿|毯子|手套|护颈|围脖|\\\n",
    "连身裤|挂饰|扎脚裤|绑结腿裤|雪纺衬|女裤|披肩|摆件|恤|衬|夹|窄口裤|罩衫|牛仔|松紧裤|起居|手环|发带|拖|衫|花式裤|利领|西|冰袖|喇叭袖|\\\n",
    "瘦腿裤|长袖中长款|巾|半身群|围|T|荷叶边|露肩|套'"
   ]
  },
  {
   "cell_type": "code",
   "execution_count": 772,
   "metadata": {
    "collapsed": true
   },
   "outputs": [],
   "source": [
    "dfff = pd.DataFrame(pattern_2.split('|'))"
   ]
  },
  {
   "cell_type": "code",
   "execution_count": 773,
   "metadata": {
    "collapsed": true,
    "scrolled": true
   },
   "outputs": [],
   "source": [
    "dfff.to_excel('d:\\\\fenlei.xls')"
   ]
  },
  {
   "cell_type": "code",
   "execution_count": 459,
   "metadata": {},
   "outputs": [
    {
     "data": {
      "text/plain": [
       "['休闲裤', '束腿裤', '运动', '裤', '九分裤', '短裤']"
      ]
     },
     "execution_count": 459,
     "metadata": {},
     "output_type": "execute_result"
    }
   ],
   "source": [
    "lo"
   ]
  },
  {
   "cell_type": "code",
   "execution_count": 461,
   "metadata": {},
   "outputs": [
    {
     "data": {
      "text/plain": [
       "['男装',\n",
       " '2018',\n",
       " '夏',\n",
       " '九分',\n",
       " '休闲',\n",
       " '休闲裤',\n",
       " '束',\n",
       " '腿',\n",
       " '裤',\n",
       " '薄款',\n",
       " '刺绣',\n",
       " '微弹',\n",
       " '青年',\n",
       " '青年运动',\n",
       " '运动',\n",
       " '运动裤',\n",
       " '九分',\n",
       " '九分裤']"
      ]
     },
     "execution_count": 461,
     "metadata": {},
     "output_type": "execute_result"
    }
   ],
   "source": []
  },
  {
   "cell_type": "code",
   "execution_count": 1146,
   "metadata": {
    "collapsed": true
   },
   "outputs": [],
   "source": [
    "# "
   ]
  },
  {
   "cell_type": "code",
   "execution_count": null,
   "metadata": {
    "collapsed": true
   },
   "outputs": [],
   "source": [
    "# s.isin(['婴儿'])"
   ]
  },
  {
   "cell_type": "code",
   "execution_count": null,
   "metadata": {
    "collapsed": true
   },
   "outputs": [],
   "source": [
    "# s[s]"
   ]
  },
  {
   "cell_type": "code",
   "execution_count": 396,
   "metadata": {
    "collapsed": true
   },
   "outputs": [],
   "source": [
    "p = r'A字裙|O型裤|POLO|T恤|八分裤|百褶裙|半裙|半身裙|包|包臀裙|保温杯|背带裤|背带裙|背心|背心吊带|编织衫|便服|便裤|便西|\\\n",
    "不规则裙|踩脚裤|超短裤|超短裙|衬衫|衬衣|床单|打底裤|打底衫|大衣|蛋糕裙|道袍|灯笼裤|灯笼裙|低裆跨裤|吊带|短裤|短款裤装|短裙|短外套|\\\n",
    "短卫裤|短袖恤|耳环|耳饰|帆布|飞鼠裤|风衣|福袋|高腰裙|格子衫|工装裤|公主裙|挂绳|哈伦裤|合体喇叭裤|荷叶边裙|护照夹|花苞裙|及膝裙|加绒裤|\\\n",
    "家居服|家居裤|夹克|紧身裤|颈链|九分裤|开衫|口罩|裤口褶边|裤子|垮裤|阔脚裤|阔腿|喇叭裤|蕾丝衫|礼服|连身裙|连体|连体短裤|连体裤|连衣|\\\n",
    "连衣裤|连衣裙|领带|领结|六分裤|萝卜裤|马夹|马甲|慢跑裤|毛巾|毛衫|毛衣|毛针织衫|帽|棉服|棉裤|棉褛|棉衣|抹胸|内裤|牛仔裤|牛仔裙|蓬蓬裙|\\\n",
    "皮带|皮衣|拼条裤|七分裤|七分裙|铅笔裤|铅笔裙|钱夹|茄克|晴雨伞|裙裤|绒衫|伞裙|沙滩裤|纱裙|上衣|上装|手机|手链|束脚|束腿裤|双裤腰|睡裤|\\\n",
    "睡袍|睡衣|碎花衫|锁骨|唐装|套裙|套衫|套头衫|套装|体恤|条纹裤|头带|袜|外套|微喇叭裤|微喇加长裤|微喇裤|围巾|卫裤|卫衣|文胸|五分裤|五分裙|\\\n",
    "西服|西服套装|西裤|西装|西装裤|西装裙|仙女裙|线衫|项链|小黑裙|小脚|小脚长裤|小衫|鞋|胸针|休闲裤|修身裤装|靴|雪纺衫|腰带|腰封|\\\n",
    "一步裙|荧光棒|羽绒服|雨衣|浴巾|圆领|运动黑色韩版裤|运动裤|运动衫|长裤|长款裤装|长裙|长筒裙|长卫裤|褶皱裤|针织裤|针织衫|正装裤|直筒|直筒裤|\\\n",
    "直筒裤装|直筒长裤|中裤|中裙|中长裙|锥裤|锥形裤|拉链时尚高腰|棒球服|鱼尾裙|透视裙|条纹短|底裤|内衣|镜|领巾|袋|挂件|碎花裙|抱枕|太平鸟A|\\\n",
    "休闲男裤|绣花裙|大摆裙|宽腿裤|起居裤|迷你裙|蕾丝裙|窄身裙|喇叭裙|打褶裙|排扣裙|紧身裙|罗纹裙|弹力裙|蝴蝶衣|裙子|长衫|护腿|毯子|手套|护颈|\\\n",
    "围脖|连身裤|挂饰|扎脚裤|绑结腿裤|雪纺衬|女裤|披肩|摆件|T|衬|夹|窄口裤|睡裙|罩衫|牛仔|松紧裤|起居|手环|发带|拖|衫|花式裤|利领|西|冰袖|\\\n",
    "喇叭袖|瘦腿裤|腰裙|长袖中长款|丝巾|半身群|针织裙|围领|雪纺裙'"
   ]
  },
  {
   "cell_type": "code",
   "execution_count": 398,
   "metadata": {
    "collapsed": true
   },
   "outputs": [],
   "source": [
    "pf = pd.DataFrame(p.split('|'))"
   ]
  },
  {
   "cell_type": "code",
   "execution_count": 399,
   "metadata": {
    "collapsed": true
   },
   "outputs": [],
   "source": [
    "pf.to_excel(r'd:\\\\fenlei2.xls')"
   ]
  },
  {
   "cell_type": "code",
   "execution_count": 146,
   "metadata": {},
   "outputs": [
    {
     "data": {
      "text/plain": [
       "False"
      ]
     },
     "execution_count": 146,
     "metadata": {},
     "output_type": "execute_result"
    }
   ],
   "source": [
    "k = 'sd4'\n",
    "k.isalpha()"
   ]
  },
  {
   "cell_type": "code",
   "execution_count": null,
   "metadata": {
    "collapsed": true
   },
   "outputs": [],
   "source": []
  }
 ],
 "metadata": {
  "kernelspec": {
   "display_name": "Python 3",
   "language": "python",
   "name": "python3"
  },
  "language_info": {
   "codemirror_mode": {
    "name": "ipython",
    "version": 3
   },
   "file_extension": ".py",
   "mimetype": "text/x-python",
   "name": "python",
   "nbconvert_exporter": "python",
   "pygments_lexer": "ipython3",
   "version": "3.6.2"
  }
 },
 "nbformat": 4,
 "nbformat_minor": 2
}
