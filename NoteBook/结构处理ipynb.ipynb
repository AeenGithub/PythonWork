{
 "cells": [
  {
   "cell_type": "code",
   "execution_count": 2,
   "metadata": {},
   "outputs": [],
   "source": [
    "import pandas as pd\n",
    "import numpy as np\n",
    "from pathlib import Path\n",
    "from functools import reduce"
   ]
  },
  {
   "cell_type": "code",
   "execution_count": 3,
   "metadata": {},
   "outputs": [],
   "source": [
    "with open('structure_level_etro.csv', encoding='utf-8') as f:\n",
    "    file = f.read().split(',0,1,2,3,4')"
   ]
  },
  {
   "cell_type": "code",
   "execution_count": 4,
   "metadata": {},
   "outputs": [],
   "source": [
    "total_df_lst = []\n",
    "for one_part in file:\n",
    "    one_part = one_part.split('\\n')\n",
    "    one_part = [i for i in one_part if i != '']\n",
    "    res_part = [i.split(',') for i in one_part]\n",
    "    df = pd.DataFrame(res_part)\n",
    "    if not df.empty:\n",
    "        df.columns = ['seq', 'level', 'now', 'now_url', 'upper', 'upper_name']\n",
    "        total_df_lst.append(df)"
   ]
  },
  {
   "cell_type": "code",
   "execution_count": 5,
   "metadata": {},
   "outputs": [],
   "source": [
    "total_df_lst = [i for i in total_df_lst if not i.empty]"
   ]
  },
  {
   "cell_type": "code",
   "execution_count": 25,
   "metadata": {},
   "outputs": [],
   "source": [
    "for one_level in range(6):\n",
    "    one_level = str(one_level)\n",
    "    level_lst = [i for i in total_df_lst if i['level'][0]==one_level]\n",
    "    dff = pd.concat(level_lst)\n",
    "    dff.to_pickle('{}.pkl'.format(one_level))"
   ]
  },
  {
   "cell_type": "code",
   "execution_count": 67,
   "metadata": {},
   "outputs": [],
   "source": [
    "df1 = pd.read_pickle('0.pkl')\n",
    "df2 = pd.read_pickle('1.pkl')\n",
    "df3 = pd.read_pickle('2.pkl')\n",
    "df4 = pd.read_pickle('3.pkl')\n",
    "df5 = pd.read_pickle('4.pkl')\n",
    "df6 = pd.read_pickle('5.pkl')"
   ]
  },
  {
   "cell_type": "code",
   "execution_count": 68,
   "metadata": {},
   "outputs": [],
   "source": [
    "df1['rcid'] = df1['now_url'].str.split('rcid=',expand=True)[1]"
   ]
  },
  {
   "cell_type": "code",
   "execution_count": 99,
   "metadata": {},
   "outputs": [],
   "source": [
    "df1_res = df1[['now','rcid']].copy()\n",
    "df1_res.to_pickle('./config/level0.pkl')"
   ]
  },
  {
   "cell_type": "code",
   "execution_count": 70,
   "metadata": {},
   "outputs": [],
   "source": [
    "df2['cid']  = df2['now_url'].str.split('cid=',expand=True)[2]\n",
    "df2['upper_cid'] = df2['upper_name'].str.split('rcid=',expand=True)[1]"
   ]
  },
  {
   "cell_type": "code",
   "execution_count": 71,
   "metadata": {},
   "outputs": [],
   "source": [
    "df2_res = df2[['now', 'cid', 'upper_cid']].copy()"
   ]
  },
  {
   "cell_type": "code",
   "execution_count": 100,
   "metadata": {},
   "outputs": [],
   "source": [
    "df2_res['level'] = 1\n",
    "df2_res['ricd'] = df2_res['upper_cid']"
   ]
  },
  {
   "cell_type": "code",
   "execution_count": 180,
   "metadata": {},
   "outputs": [],
   "source": [
    "df2_res.columns = ['cname', 'cid', 'pcid', 'level', 'rcid']"
   ]
  },
  {
   "cell_type": "code",
   "execution_count": 181,
   "metadata": {},
   "outputs": [],
   "source": [
    "df2_res.to_pickle('./config/level1.pkl')"
   ]
  },
  {
   "cell_type": "code",
   "execution_count": 81,
   "metadata": {},
   "outputs": [],
   "source": [
    "df3['cid'] = df3['now_url'].str.split('cid=',expand=True)[2]"
   ]
  },
  {
   "cell_type": "code",
   "execution_count": 85,
   "metadata": {},
   "outputs": [],
   "source": [
    "df3['pcid'] = df3['upper_name'].str.split('cid=',expand=True)[2]"
   ]
  },
  {
   "cell_type": "code",
   "execution_count": 90,
   "metadata": {},
   "outputs": [],
   "source": [
    "df3['rcid'] = df3['upper_name'].str.extract('rcid=(.*?)&')[0]"
   ]
  },
  {
   "cell_type": "code",
   "execution_count": 92,
   "metadata": {},
   "outputs": [],
   "source": [
    "df3_res = df3[['level', 'now', 'cid', 'pcid', 'rcid']].copy()"
   ]
  },
  {
   "cell_type": "code",
   "execution_count": 183,
   "metadata": {},
   "outputs": [],
   "source": [
    "df3_res.columns = ['level', 'cname', 'cid', 'pcid', 'rcid']"
   ]
  },
  {
   "cell_type": "code",
   "execution_count": 184,
   "metadata": {},
   "outputs": [],
   "source": [
    "df3_res.to_pickle('./config/level2.pkl')"
   ]
  },
  {
   "cell_type": "code",
   "execution_count": 110,
   "metadata": {},
   "outputs": [],
   "source": [
    "df4.dropna(axis=0,inplace=True)"
   ]
  },
  {
   "cell_type": "code",
   "execution_count": 111,
   "metadata": {},
   "outputs": [],
   "source": [
    "df4['cid'] = df4['now_url'].str.split('cid=',expand=True)[2]"
   ]
  },
  {
   "cell_type": "code",
   "execution_count": 112,
   "metadata": {},
   "outputs": [],
   "source": [
    "df4['pcid'] = df4['upper_name'].str.split('cid=',expand=True)[2]"
   ]
  },
  {
   "cell_type": "code",
   "execution_count": 115,
   "metadata": {},
   "outputs": [],
   "source": [
    "df4['rcid'] = df4['upper_name'].str.extract('rcid=(.*?)&')[0]"
   ]
  },
  {
   "cell_type": "code",
   "execution_count": 117,
   "metadata": {},
   "outputs": [],
   "source": [
    "df4_res = df4[['level', 'now', 'cid', 'pcid', 'rcid']].copy()"
   ]
  },
  {
   "cell_type": "code",
   "execution_count": 186,
   "metadata": {},
   "outputs": [],
   "source": [
    "df4_res.columns = ['level', 'cname', 'cid', 'pcid', 'rcid']"
   ]
  },
  {
   "cell_type": "code",
   "execution_count": 190,
   "metadata": {},
   "outputs": [],
   "source": [
    "df4_res.to_pickle('./config/level3.pkl')"
   ]
  },
  {
   "cell_type": "code",
   "execution_count": 150,
   "metadata": {},
   "outputs": [],
   "source": [
    "df5 = df5.loc[~df5['now_url'].isna()]"
   ]
  },
  {
   "cell_type": "code",
   "execution_count": 157,
   "metadata": {},
   "outputs": [],
   "source": [
    "df5_need = df5.loc[~df5['now_url'].str.match('.*pos')].copy()"
   ]
  },
  {
   "cell_type": "code",
   "execution_count": 159,
   "metadata": {},
   "outputs": [],
   "source": [
    "df5_need['cid'] = df5_need['now_url'].str.split('cid=',expand=True)[2]\n",
    "df5_need['pcid'] = df5_need['upper_name'].str.split('cid=',expand=True)[2]\n",
    "df5_need['rcid'] = df5_need['upper_name'].str.extract('rcid=(.*?)&')[0]"
   ]
  },
  {
   "cell_type": "code",
   "execution_count": 162,
   "metadata": {},
   "outputs": [],
   "source": [
    "df5_res = df5_need[['level', 'now', 'cid', 'pcid', 'rcid']].copy()"
   ]
  },
  {
   "cell_type": "code",
   "execution_count": 188,
   "metadata": {},
   "outputs": [],
   "source": [
    "df5_res.columns = ['level', 'cname', 'cid', 'pcid', 'rcid']"
   ]
  },
  {
   "cell_type": "code",
   "execution_count": 189,
   "metadata": {},
   "outputs": [],
   "source": [
    "df5_res.to_pickle('./config/level4.pkl')"
   ]
  },
  {
   "cell_type": "code",
   "execution_count": 168,
   "metadata": {},
   "outputs": [],
   "source": [
    "df6 = df6.loc[~df6['now_url'].isna()]\n",
    "df6_need = df6.loc[~df6['now_url'].str.match('.*pos')].copy()"
   ]
  },
  {
   "cell_type": "code",
   "execution_count": 171,
   "metadata": {},
   "outputs": [
    {
     "data": {
      "text/html": [
       "<div>\n",
       "<style scoped>\n",
       "    .dataframe tbody tr th:only-of-type {\n",
       "        vertical-align: middle;\n",
       "    }\n",
       "\n",
       "    .dataframe tbody tr th {\n",
       "        vertical-align: top;\n",
       "    }\n",
       "\n",
       "    .dataframe thead th {\n",
       "        text-align: right;\n",
       "    }\n",
       "</style>\n",
       "<table border=\"1\" class=\"dataframe\">\n",
       "  <thead>\n",
       "    <tr style=\"text-align: right;\">\n",
       "      <th></th>\n",
       "      <th>seq</th>\n",
       "      <th>level</th>\n",
       "      <th>now</th>\n",
       "      <th>now_url</th>\n",
       "      <th>upper</th>\n",
       "      <th>upper_name</th>\n",
       "    </tr>\n",
       "  </thead>\n",
       "  <tbody>\n",
       "    <tr>\n",
       "      <td>0</td>\n",
       "      <td>0</td>\n",
       "      <td>5</td>\n",
       "      <td>自定义价格段分析</td>\n",
       "      <td>http://qbt.ecdataway.com/stat?cid=50003509&amp;pos=-1</td>\n",
       "      <td>上衣</td>\n",
       "      <td>http://qbt.ecdataway.com/stat?rcid=2011010114&amp;...</td>\n",
       "    </tr>\n",
       "    <tr>\n",
       "      <td>1</td>\n",
       "      <td>1</td>\n",
       "      <td>5</td>\n",
       "      <td>尺码</td>\n",
       "      <td>http://qbt.ecdataway.com/stat?cid=50003509&amp;pos=1</td>\n",
       "      <td>上衣</td>\n",
       "      <td>http://qbt.ecdataway.com/stat?rcid=2011010114&amp;...</td>\n",
       "    </tr>\n",
       "    <tr>\n",
       "      <td>2</td>\n",
       "      <td>2</td>\n",
       "      <td>5</td>\n",
       "      <td>颜色分类</td>\n",
       "      <td>http://qbt.ecdataway.com/stat?cid=50003509&amp;pos=8</td>\n",
       "      <td>上衣</td>\n",
       "      <td>http://qbt.ecdataway.com/stat?rcid=2011010114&amp;...</td>\n",
       "    </tr>\n",
       "    <tr>\n",
       "      <td>3</td>\n",
       "      <td>3</td>\n",
       "      <td>5</td>\n",
       "      <td>货号</td>\n",
       "      <td>http://qbt.ecdataway.com/stat?cid=50003509&amp;pos=24</td>\n",
       "      <td>上衣</td>\n",
       "      <td>http://qbt.ecdataway.com/stat?rcid=2011010114&amp;...</td>\n",
       "    </tr>\n",
       "    <tr>\n",
       "      <td>4</td>\n",
       "      <td>4</td>\n",
       "      <td>5</td>\n",
       "      <td>适用年龄</td>\n",
       "      <td>http://qbt.ecdataway.com/stat?cid=50003509&amp;pos=27</td>\n",
       "      <td>上衣</td>\n",
       "      <td>http://qbt.ecdataway.com/stat?rcid=2011010114&amp;...</td>\n",
       "    </tr>\n",
       "    <tr>\n",
       "      <td>...</td>\n",
       "      <td>...</td>\n",
       "      <td>...</td>\n",
       "      <td>...</td>\n",
       "      <td>...</td>\n",
       "      <td>...</td>\n",
       "      <td>...</td>\n",
       "    </tr>\n",
       "    <tr>\n",
       "      <td>5</td>\n",
       "      <td>5</td>\n",
       "      <td>5</td>\n",
       "      <td>原料成分</td>\n",
       "      <td>http://qbt.ecdataway.com/stat?cid=121474033&amp;pos=5</td>\n",
       "      <td>乳房乳霜</td>\n",
       "      <td>http://qbt.ecdataway.com/stat?rcid=2011010117&amp;...</td>\n",
       "    </tr>\n",
       "    <tr>\n",
       "      <td>6</td>\n",
       "      <td>6</td>\n",
       "      <td>5</td>\n",
       "      <td>是否为特殊用途化妆品</td>\n",
       "      <td>http://qbt.ecdataway.com/stat?cid=121474033&amp;pos=6</td>\n",
       "      <td>乳房乳霜</td>\n",
       "      <td>http://qbt.ecdataway.com/stat?rcid=2011010117&amp;...</td>\n",
       "    </tr>\n",
       "    <tr>\n",
       "      <td>7</td>\n",
       "      <td>7</td>\n",
       "      <td>5</td>\n",
       "      <td>产地</td>\n",
       "      <td>http://qbt.ecdataway.com/stat?cid=121474033&amp;pos=7</td>\n",
       "      <td>乳房乳霜</td>\n",
       "      <td>http://qbt.ecdataway.com/stat?rcid=2011010117&amp;...</td>\n",
       "    </tr>\n",
       "    <tr>\n",
       "      <td>8</td>\n",
       "      <td>8</td>\n",
       "      <td>5</td>\n",
       "      <td>适用阶段</td>\n",
       "      <td>http://qbt.ecdataway.com/stat?cid=121474033&amp;pos=8</td>\n",
       "      <td>乳房乳霜</td>\n",
       "      <td>http://qbt.ecdataway.com/stat?rcid=2011010117&amp;...</td>\n",
       "    </tr>\n",
       "    <tr>\n",
       "      <td>9</td>\n",
       "      <td>9</td>\n",
       "      <td>5</td>\n",
       "      <td>货号</td>\n",
       "      <td>http://qbt.ecdataway.com/stat?cid=121474033&amp;pos=9</td>\n",
       "      <td>乳房乳霜</td>\n",
       "      <td>http://qbt.ecdataway.com/stat?rcid=2011010117&amp;...</td>\n",
       "    </tr>\n",
       "  </tbody>\n",
       "</table>\n",
       "<p>865 rows × 6 columns</p>\n",
       "</div>"
      ],
      "text/plain": [
       "   seq level         now                                            now_url  \\\n",
       "0    0     5    自定义价格段分析  http://qbt.ecdataway.com/stat?cid=50003509&pos=-1   \n",
       "1    1     5          尺码   http://qbt.ecdataway.com/stat?cid=50003509&pos=1   \n",
       "2    2     5        颜色分类   http://qbt.ecdataway.com/stat?cid=50003509&pos=8   \n",
       "3    3     5          货号  http://qbt.ecdataway.com/stat?cid=50003509&pos=24   \n",
       "4    4     5        适用年龄  http://qbt.ecdataway.com/stat?cid=50003509&pos=27   \n",
       "..  ..   ...         ...                                                ...   \n",
       "5    5     5        原料成分  http://qbt.ecdataway.com/stat?cid=121474033&pos=5   \n",
       "6    6     5  是否为特殊用途化妆品  http://qbt.ecdataway.com/stat?cid=121474033&pos=6   \n",
       "7    7     5          产地  http://qbt.ecdataway.com/stat?cid=121474033&pos=7   \n",
       "8    8     5        适用阶段  http://qbt.ecdataway.com/stat?cid=121474033&pos=8   \n",
       "9    9     5          货号  http://qbt.ecdataway.com/stat?cid=121474033&pos=9   \n",
       "\n",
       "   upper                                         upper_name  \n",
       "0     上衣  http://qbt.ecdataway.com/stat?rcid=2011010114&...  \n",
       "1     上衣  http://qbt.ecdataway.com/stat?rcid=2011010114&...  \n",
       "2     上衣  http://qbt.ecdataway.com/stat?rcid=2011010114&...  \n",
       "3     上衣  http://qbt.ecdataway.com/stat?rcid=2011010114&...  \n",
       "4     上衣  http://qbt.ecdataway.com/stat?rcid=2011010114&...  \n",
       "..   ...                                                ...  \n",
       "5   乳房乳霜  http://qbt.ecdataway.com/stat?rcid=2011010117&...  \n",
       "6   乳房乳霜  http://qbt.ecdataway.com/stat?rcid=2011010117&...  \n",
       "7   乳房乳霜  http://qbt.ecdataway.com/stat?rcid=2011010117&...  \n",
       "8   乳房乳霜  http://qbt.ecdataway.com/stat?rcid=2011010117&...  \n",
       "9   乳房乳霜  http://qbt.ecdataway.com/stat?rcid=2011010117&...  \n",
       "\n",
       "[865 rows x 6 columns]"
      ]
     },
     "execution_count": 171,
     "metadata": {},
     "output_type": "execute_result"
    }
   ],
   "source": [
    "df6.loc[df6['now_url'].str.match('.*pos')].copy()"
   ]
  },
  {
   "cell_type": "code",
   "execution_count": 200,
   "metadata": {},
   "outputs": [],
   "source": [
    "final_df = pd.concat([df2_res, df3_res, df4_res, df5_res], sort=True)"
   ]
  },
  {
   "cell_type": "code",
   "execution_count": 201,
   "metadata": {},
   "outputs": [],
   "source": [
    "final_df.drop_duplicates(inplace=True)"
   ]
  },
  {
   "cell_type": "code",
   "execution_count": 203,
   "metadata": {},
   "outputs": [],
   "source": [
    "final_df.to_clipboard()"
   ]
  },
  {
   "cell_type": "code",
   "execution_count": 202,
   "metadata": {},
   "outputs": [],
   "source": [
    "final_df.to_pickle('final_structure.pkl')"
   ]
  },
  {
   "cell_type": "code",
   "execution_count": 195,
   "metadata": {},
   "outputs": [
    {
     "data": {
      "text/plain": [
       "(1775, 5)"
      ]
     },
     "execution_count": 195,
     "metadata": {},
     "output_type": "execute_result"
    }
   ],
   "source": [
    "final_df.shape"
   ]
  },
  {
   "cell_type": "code",
   "execution_count": 199,
   "metadata": {},
   "outputs": [
    {
     "data": {
      "text/html": [
       "<div>\n",
       "<style scoped>\n",
       "    .dataframe tbody tr th:only-of-type {\n",
       "        vertical-align: middle;\n",
       "    }\n",
       "\n",
       "    .dataframe tbody tr th {\n",
       "        vertical-align: top;\n",
       "    }\n",
       "\n",
       "    .dataframe thead th {\n",
       "        text-align: right;\n",
       "    }\n",
       "</style>\n",
       "<table border=\"1\" class=\"dataframe\">\n",
       "  <thead>\n",
       "    <tr style=\"text-align: right;\">\n",
       "      <th></th>\n",
       "      <th>cid</th>\n",
       "      <th>cname</th>\n",
       "      <th>level</th>\n",
       "      <th>pcid</th>\n",
       "      <th>rcid</th>\n",
       "    </tr>\n",
       "  </thead>\n",
       "  <tbody>\n",
       "    <tr>\n",
       "      <td>0</td>\n",
       "      <td>16</td>\n",
       "      <td>女装/女士精品</td>\n",
       "      <td>1</td>\n",
       "      <td>2011010114</td>\n",
       "      <td>2011010114</td>\n",
       "    </tr>\n",
       "    <tr>\n",
       "      <td>1</td>\n",
       "      <td>30</td>\n",
       "      <td>男装</td>\n",
       "      <td>1</td>\n",
       "      <td>2011010114</td>\n",
       "      <td>2011010114</td>\n",
       "    </tr>\n",
       "    <tr>\n",
       "      <td>2</td>\n",
       "      <td>1625</td>\n",
       "      <td>女士内衣/男士内衣/家居服</td>\n",
       "      <td>1</td>\n",
       "      <td>2011010114</td>\n",
       "      <td>2011010114</td>\n",
       "    </tr>\n",
       "    <tr>\n",
       "      <td>3</td>\n",
       "      <td>50006843</td>\n",
       "      <td>女鞋</td>\n",
       "      <td>1</td>\n",
       "      <td>2011010114</td>\n",
       "      <td>2011010114</td>\n",
       "    </tr>\n",
       "    <tr>\n",
       "      <td>4</td>\n",
       "      <td>50011740</td>\n",
       "      <td>流行男鞋</td>\n",
       "      <td>1</td>\n",
       "      <td>2011010114</td>\n",
       "      <td>2011010114</td>\n",
       "    </tr>\n",
       "    <tr>\n",
       "      <td>...</td>\n",
       "      <td>...</td>\n",
       "      <td>...</td>\n",
       "      <td>...</td>\n",
       "      <td>...</td>\n",
       "      <td>...</td>\n",
       "    </tr>\n",
       "    <tr>\n",
       "      <td>1</td>\n",
       "      <td>121386030</td>\n",
       "      <td>乳房护理套装</td>\n",
       "      <td>4</td>\n",
       "      <td>121478023</td>\n",
       "      <td>2011010117</td>\n",
       "    </tr>\n",
       "    <tr>\n",
       "      <td>2</td>\n",
       "      <td>121408033</td>\n",
       "      <td>乳房精油</td>\n",
       "      <td>4</td>\n",
       "      <td>121478023</td>\n",
       "      <td>2011010117</td>\n",
       "    </tr>\n",
       "    <tr>\n",
       "      <td>3</td>\n",
       "      <td>121414036</td>\n",
       "      <td>乳房喷雾</td>\n",
       "      <td>4</td>\n",
       "      <td>121478023</td>\n",
       "      <td>2011010117</td>\n",
       "    </tr>\n",
       "    <tr>\n",
       "      <td>4</td>\n",
       "      <td>121466038</td>\n",
       "      <td>乳房精华</td>\n",
       "      <td>4</td>\n",
       "      <td>121478023</td>\n",
       "      <td>2011010117</td>\n",
       "    </tr>\n",
       "    <tr>\n",
       "      <td>5</td>\n",
       "      <td>121474033</td>\n",
       "      <td>乳房乳霜</td>\n",
       "      <td>4</td>\n",
       "      <td>121478023</td>\n",
       "      <td>2011010117</td>\n",
       "    </tr>\n",
       "  </tbody>\n",
       "</table>\n",
       "<p>1560 rows × 5 columns</p>\n",
       "</div>"
      ],
      "text/plain": [
       "          cid          cname level        pcid        rcid\n",
       "0          16        女装/女士精品     1  2011010114  2011010114\n",
       "1          30             男装     1  2011010114  2011010114\n",
       "2        1625  女士内衣/男士内衣/家居服     1  2011010114  2011010114\n",
       "3    50006843             女鞋     1  2011010114  2011010114\n",
       "4    50011740           流行男鞋     1  2011010114  2011010114\n",
       "..        ...            ...   ...         ...         ...\n",
       "1   121386030         乳房护理套装     4   121478023  2011010117\n",
       "2   121408033           乳房精油     4   121478023  2011010117\n",
       "3   121414036           乳房喷雾     4   121478023  2011010117\n",
       "4   121466038           乳房精华     4   121478023  2011010117\n",
       "5   121474033           乳房乳霜     4   121478023  2011010117\n",
       "\n",
       "[1560 rows x 5 columns]"
      ]
     },
     "execution_count": 199,
     "metadata": {},
     "output_type": "execute_result"
    }
   ],
   "source": [
    "final_df"
   ]
  },
  {
   "cell_type": "code",
   "execution_count": null,
   "metadata": {},
   "outputs": [],
   "source": []
  }
 ],
 "metadata": {
  "kernelspec": {
   "display_name": "Python 3",
   "language": "python",
   "name": "python3"
  },
  "language_info": {
   "codemirror_mode": {
    "name": "ipython",
    "version": 3
   },
   "file_extension": ".py",
   "mimetype": "text/x-python",
   "name": "python",
   "nbconvert_exporter": "python",
   "pygments_lexer": "ipython3",
   "version": "3.7.3"
  }
 },
 "nbformat": 4,
 "nbformat_minor": 2
}
