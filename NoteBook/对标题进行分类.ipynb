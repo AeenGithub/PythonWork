{
 "cells": [
  {
   "cell_type": "code",
   "execution_count": 1,
   "metadata": {
    "collapsed": true
   },
   "outputs": [],
   "source": [
    "import pandas as pd\n",
    "import csv\n",
    "import re\n",
    "import jieba\n",
    "import time\n",
    "from jieba import analyse\n",
    "from collections import OrderedDict"
   ]
  },
  {
   "cell_type": "code",
   "execution_count": 2,
   "metadata": {
    "collapsed": true
   },
   "outputs": [],
   "source": [
    "all_lst = []\n",
    "with open(r\"D:\\文档\\天猫\\store_of_Tmall_201808141052.csv\", 'r', encoding='gbk') as f:\n",
    "    csv_reader = csv.DictReader(f)\n",
    "    for row in csv_reader:\n",
    "        all_lst.append(row)"
   ]
  },
  {
   "cell_type": "code",
   "execution_count": 3,
   "metadata": {
    "collapsed": true
   },
   "outputs": [],
   "source": [
    "df = pd.DataFrame(all_lst)"
   ]
  },
  {
   "cell_type": "code",
   "execution_count": 4,
   "metadata": {
    "collapsed": true
   },
   "outputs": [],
   "source": [
    "df['title'] = df['title'].str.replace('Polo衫', 'POLO衫')"
   ]
  },
  {
   "cell_type": "code",
   "execution_count": 5,
   "metadata": {
    "collapsed": true
   },
   "outputs": [],
   "source": [
    "df = df[(df['title'].str.find('婴儿') == -1) & (df['title'].str.find('童') == -1) & (~df['title'].str.isdigit())]\n",
    "df = df[(df['title'].str.find('1元入会') == -1) & (df['title'].str.find('太平鸟A') == -1)]"
   ]
  },
  {
   "cell_type": "code",
   "execution_count": 7,
   "metadata": {},
   "outputs": [],
   "source": [
    "jieba.load_userdict(r\"D:\\文档\\天猫\\服装字典\")"
   ]
  },
  {
   "cell_type": "code",
   "execution_count": 8,
   "metadata": {
    "collapsed": true
   },
   "outputs": [],
   "source": [
    "df['title'] = df['title'].str.replace('【商场同款】', '')"
   ]
  },
  {
   "cell_type": "code",
   "execution_count": 9,
   "metadata": {
    "collapsed": true
   },
   "outputs": [],
   "source": [
    "brand_shop = r'(太平鸟|麦檬|MG小象|Material girl|me&city女装|me&city男装|美特斯邦威|npc|欧时力|ONLY|太平鸟女装|Aself|\\\n",
    "trendiano|优衣库|UR|VEROMODA|viishow|播|clot|速写|伊芙丽|lily|GU|GXG|gxgjeans|韩都衣舍|海澜之家|茵曼|杰克琼斯|JNBY|江南布衣|\\\n",
    "jucyjudy|kikc|kon|阔色|拉夏贝尔|lilbetter|Lilbetter|Libetter|LILBETTER|毛菇小象|Libette|MG|mg|MECITY|ASELF|TRENDIANO|\\\n",
    "Vero Moda|VIISHOW|gxg|HSPM|LB)(.*)'"
   ]
  },
  {
   "cell_type": "code",
   "execution_count": 10,
   "metadata": {
    "collapsed": true
   },
   "outputs": [],
   "source": [
    "# df['title'] = df['title'] .str.extract(brand_shop, expand=False)[2]\n",
    "# df['title']\n",
    "df['none_brand_title'] = df['title'].str.extract(brand_shop, expand=True)[1]\n",
    "# df[df['none_brand_title'].isnull()][['none_brand_title','store_name', 'title']]\n",
    "\n",
    "for one in df.index[df['none_brand_title'].isnull()]:\n",
    "    df['none_brand_title'][one] = df['title'][one]\n",
    "for one in df.index[df['none_brand_title'] == '']:\n",
    "    df['none_brand_title'][one] = df['title'][one]\n",
    "for one in df.index[df['none_brand_title'].str.count('') < 10]:\n",
    "    df['none_brand_title'][one] = df['title'][one]"
   ]
  },
  {
   "cell_type": "code",
   "execution_count": 11,
   "metadata": {
    "collapsed": true
   },
   "outputs": [],
   "source": [
    "# df[df['none_brand_title'] == '女'][['none_brand_title', 'title\n",
    "# expand_df = df['title'].str.extract(brand_shop, expand=True)\n",
    "# df['none_brand_title'].value_counts()"
   ]
  },
  {
   "cell_type": "code",
   "execution_count": 252,
   "metadata": {
    "collapsed": true
   },
   "outputs": [],
   "source": [
    "# df['title']\n",
    "df['中类'] = ''\n",
    "df['大类'] = ''"
   ]
  },
  {
   "cell_type": "code",
   "execution_count": 253,
   "metadata": {
    "collapsed": true
   },
   "outputs": [],
   "source": [
    "# df['title_rank'] = df['title'].apply(lambda x: list(jieba.cut(x)))"
   ]
  },
  {
   "cell_type": "code",
   "execution_count": 254,
   "metadata": {
    "collapsed": true
   },
   "outputs": [],
   "source": [
    "# patt = r'裙|裤|袜|衫|马|连|腰|胸|环|护|毯|冰|西|羽绒|套|夹|链|鞋|牛仔|饰|围|袋|衣|恤|POLO|皮|克|帽|服|盒|包|带|结|褛|巾|棒|罩|雨|\\\n",
    "# 手机|心|袍|唐|靴|袖|镜|挂|枕|衬|阔腿|利领|床|杯|卫衣|风衣|毛衣|大衣|连衣|棉衣'"
   ]
  },
  {
   "cell_type": "code",
   "execution_count": 255,
   "metadata": {
    "collapsed": true
   },
   "outputs": [],
   "source": [
    "pattern = r'O型裤|POLO|T恤|八分裤|包|保温杯|背带裤|背心|背心吊带|编织衫|便服|便裤|便西|踩脚裤|超短裤|衬衫|衬衣|床单|打底裤|打底衫|\\\n",
    "大衣|道袍|灯笼裤|低裆跨裤|吊带|短裤|短款裤装|短外套|短卫裤|短袖恤|耳环|耳饰|帆布|飞鼠裤|风衣|福袋|格子衫|工装裤|挂绳|哈伦裤|合体喇叭裤|\\\n",
    "护照夹|加绒裤|家居服|家居裤|夹克|紧身裤|颈链|九分裤|开衫|口罩|裤口褶边|裤子|垮裤|阔脚裤|阔腿|喇叭裤|蕾丝衫|礼服|连体|连体短裤|连体裤|\\\n",
    "裙|连衣裤|领带|领结|六分裤|萝卜裤|马夹|马甲|慢跑裤|毛巾|毛衫|毛衣|毛针织衫|帽|棉服|棉裤|棉褛|棉衣|抹胸|内裤|牛仔裤|皮带|皮衣|拼条裤|\\\n",
    "七分裤|铅笔裤|钱夹|茄克|晴雨伞|绒衫|沙滩裤|上衣|上装|手机|手链|束脚|束腿裤|双裤腰|睡裤|睡袍|睡衣|碎花衫|锁骨|唐装|套衫|套头衫|套装|体恤|\\\n",
    "条纹裤|头带|袜|外套|微喇叭裤|微喇加长裤|微喇裤|围巾|卫裤|卫衣|文胸|五分裤|西服|西服套装|西裤|西装|西装裤|线衫|项链|小脚|小脚长裤|小衫|鞋|\\\n",
    "胸针|休闲裤|修身裤装|靴|雪纺衫|腰带|腰封|荧光棒|羽绒服|雨衣|浴巾|圆领|运动|运动裤|运动衫|长裤|长款裤装|长卫裤|褶皱裤|针织裤|针织衫|正装裤|\\\n",
    "直筒|中裤|锥裤|锥形裤|拉链时尚高腰|棒球服|条纹短|底裤|内衣|镜|领巾|袋|挂件|抱枕|裤|宽腿裤|起居裤|蝴蝶衣|长衫|护腿|毯子|手套|护颈|围脖|\\\n",
    "连身裤|挂饰|扎脚裤|绑结腿裤|雪纺衬|女裤|披肩|摆件|恤|衬|夹|窄口裤|罩衫|牛仔|松紧裤|起居|手环|发带|拖|衫|花式裤|利领|西|冰袖|喇叭袖|\\\n",
    "瘦腿裤|长袖中长款|巾|半身群|围|T|荷叶边|露肩|套|休闲长裤|连衣裙'"
   ]
  },
  {
   "cell_type": "code",
   "execution_count": 256,
   "metadata": {},
   "outputs": [],
   "source": [
    "# analyse.extract_tags()\n",
    "# analyse.extract_tags()"
   ]
  },
  {
   "cell_type": "code",
   "execution_count": 257,
   "metadata": {
    "collapsed": true
   },
   "outputs": [],
   "source": [
    "clothe_class = re.compile(pattern, re.I)"
   ]
  },
  {
   "cell_type": "code",
   "execution_count": 258,
   "metadata": {
    "collapsed": true
   },
   "outputs": [],
   "source": [
    "df['title简称'] = df['title'].apply(lambda x: clothe_class.findall(x))"
   ]
  },
  {
   "cell_type": "code",
   "execution_count": 259,
   "metadata": {
    "collapsed": true
   },
   "outputs": [],
   "source": [
    "df['title简称'] = (df['title简称'].apply(lambda x: set(x))\n",
    "                                .apply(lambda x: [i.replace('体恤', 'T恤') for i in set(x)])\n",
    "                                .apply(lambda x: '|'.join(set(x))))"
   ]
  },
  {
   "cell_type": "code",
   "execution_count": 260,
   "metadata": {
    "collapsed": true
   },
   "outputs": [],
   "source": [
    "# df['title简称2'] = df['title简称'].apply(lambda x: '|'.join(set(x)))\n",
    "# df['title简称']"
   ]
  },
  {
   "cell_type": "code",
   "execution_count": 261,
   "metadata": {},
   "outputs": [],
   "source": [
    "mid_rank = []\n",
    "mid_rank_dict = OrderedDict()\n",
    "mid_rank_dict_2 = OrderedDict()\n",
    "with open(r\"D:\\文档\\天猫\\rule_of_rank\") as f:\n",
    "    skirts = f.read().split('\\n')\n",
    "for one_rank in skirts:\n",
    "    mid_rank.append(one_rank.split('\\t'))\n",
    "    mid_rank_dict[one_rank.split('\\t')[0]] = one_rank.split('\\t')[1]\n",
    "    mid_rank_dict_2[one_rank.split('\\t')[1]] = one_rank.split('\\t')[2]"
   ]
  },
  {
   "cell_type": "code",
   "execution_count": 262,
   "metadata": {
    "collapsed": true,
    "scrolled": true
   },
   "outputs": [],
   "source": [
    "for one_key in mid_rank:\n",
    "    tmall = one_key[0]\n",
    "    res = one_key[1]\n",
    "    df.loc[(df['title简称'].str.find(tmall) != -1), ['中类']] = res"
   ]
  },
  {
   "cell_type": "code",
   "execution_count": 264,
   "metadata": {
    "collapsed": true
   },
   "outputs": [],
   "source": [
    "for one_key in mid_rank:\n",
    "    mid_res = one_key[1]\n",
    "    final_res = one_key[2]\n",
    "    df.loc[(df['中类'].str.find(mid_res) != -1), ['大类']] = final_res"
   ]
  },
  {
   "cell_type": "code",
   "execution_count": 291,
   "metadata": {},
   "outputs": [],
   "source": [
    "sex_patt = re.compile(r'男女|男女同款|男|女')\n",
    "quarter_patt = re.compile(r'春|夏|秋|冬|夏秋')"
   ]
  },
  {
   "cell_type": "code",
   "execution_count": 292,
   "metadata": {},
   "outputs": [],
   "source": [
    "df['性别'] = (df['title'].apply(lambda x: sex_patt.findall(x))\n",
    "#                                 .apply(lambda x: set(x))\n",
    "                                .apply(lambda x: '|'.join(set(x)))\n",
    "                                .replace('男|男女', '男女'))\n",
    "df['季节'] = (df['title'].apply(lambda x: quarter_patt.findall(x))\n",
    "                                .apply(lambda x: set(x))\n",
    "                                .apply(lambda x: '|'.join(set(x))))\n",
    "# df['性别'].replace('男|男女', '男女', inplace=True)"
   ]
  },
  {
   "cell_type": "markdown",
   "metadata": {},
   "source": [
    "#### 查看性别已经匹配成功的行"
   ]
  },
  {
   "cell_type": "code",
   "execution_count": 293,
   "metadata": {
    "scrolled": false
   },
   "outputs": [
    {
     "data": {
      "text/plain": [
       "女      32082\n",
       "男      16315\n",
       "        4964\n",
       "男女       354\n",
       "女|男      106\n",
       "Name: 性别, dtype: int64"
      ]
     },
     "execution_count": 293,
     "metadata": {},
     "output_type": "execute_result"
    }
   ],
   "source": [
    "# df[((df['性别'] != '女') & (df['性别'] != '男') & (df['性别'] != ''))][['store_name', '性别', 'title']]\n",
    "df['性别'].value_counts()\n",
    "# df[(df['性别'] == '')][['store_name', '性别', 'title']]"
   ]
  },
  {
   "cell_type": "markdown",
   "metadata": {},
   "source": [
    "#### 对性别进行品牌匹配"
   ]
  },
  {
   "cell_type": "code",
   "execution_count": 294,
   "metadata": {},
   "outputs": [],
   "source": [
    "df['性别2'] = df['store_name'].map(brand_sex)\n",
    "condition = ((df['性别'] != '女') & (df['性别'] != '男') & (df['性别'] != '男女'))\n",
    "# condition"
   ]
  },
  {
   "cell_type": "code",
   "execution_count": 295,
   "metadata": {},
   "outputs": [],
   "source": [
    "df.loc[df.index[condition], ['性别']] = df.loc[df.index[condition], ['性别2']].values"
   ]
  },
  {
   "cell_type": "code",
   "execution_count": 300,
   "metadata": {},
   "outputs": [
    {
     "data": {
      "text/plain": [
       "女     35658\n",
       "男     17652\n",
       "男女      403\n",
       "        108\n",
       "Name: 性别, dtype: int64"
      ]
     },
     "execution_count": 300,
     "metadata": {},
     "output_type": "execute_result"
    }
   ],
   "source": [
    "condition_2 = ((df['性别'] == '') & (df['中类'] == '鞋配'))\n",
    "df.loc[df.index[condition_2], ['性别']] = '男女'\n",
    "df.loc[df.index[((df['性别'] == '') & (df['中类'].str.find('裙') != -1))], ['性别']] = '男女'\n",
    "# df.loc[df.index[df['性别'] == ''], ['store_name', 'title']]\n",
    "df['性别'].value_counts()"
   ]
  },
  {
   "cell_type": "code",
   "execution_count": 303,
   "metadata": {},
   "outputs": [
    {
     "data": {
      "text/plain": [
       "Index(['store_name', 'item_id', 'price', 'quantity', 'sold', 'title',\n",
       "       'titleUnderIconList', 'totalSoldQuantity', 'url', 'img',\n",
       "       'none_brand_title', '分类', '大类', 'title简称', '性别', '季节', '性别2', '中类'],\n",
       "      dtype='object')"
      ]
     },
     "execution_count": 303,
     "metadata": {},
     "output_type": "execute_result"
    }
   ],
   "source": [
    "df.columns"
   ]
  },
  {
   "cell_type": "markdown",
   "metadata": {},
   "source": [
    "#### 保存最终结果"
   ]
  },
  {
   "cell_type": "code",
   "execution_count": 307,
   "metadata": {},
   "outputs": [
    {
     "ename": "PermissionError",
     "evalue": "[Errno 13] Permission denied: 'd:\\\\结果.xls'",
     "output_type": "error",
     "traceback": [
      "\u001b[1;31m---------------------------------------------------------------------------\u001b[0m",
      "\u001b[1;31mPermissionError\u001b[0m                           Traceback (most recent call last)",
      "\u001b[1;32m<ipython-input-307-779d295aaa2d>\u001b[0m in \u001b[0;36m<module>\u001b[1;34m()\u001b[0m\n\u001b[0;32m      2\u001b[0m \u001b[1;31m# df[df['分类'] == '']['title简称']\u001b[0m\u001b[1;33m\u001b[0m\u001b[1;33m\u001b[0m\u001b[0m\n\u001b[0;32m      3\u001b[0m \u001b[0mnew\u001b[0m \u001b[1;33m=\u001b[0m \u001b[0mdf\u001b[0m\u001b[1;33m[\u001b[0m\u001b[1;33m[\u001b[0m\u001b[1;34m'store_name'\u001b[0m\u001b[1;33m,\u001b[0m \u001b[1;34m'中类'\u001b[0m\u001b[1;33m,\u001b[0m \u001b[1;34m'大类'\u001b[0m\u001b[1;33m,\u001b[0m \u001b[1;34m'性别'\u001b[0m\u001b[1;33m,\u001b[0m \u001b[1;34m'price'\u001b[0m\u001b[1;33m,\u001b[0m \u001b[1;34m'quantity'\u001b[0m\u001b[1;33m,\u001b[0m \u001b[1;34m'sold'\u001b[0m\u001b[1;33m,\u001b[0m \u001b[1;34m'totalSoldQuantity'\u001b[0m\u001b[1;33m,\u001b[0m \u001b[1;34m'title'\u001b[0m\u001b[1;33m,\u001b[0m \u001b[1;34m'title简称'\u001b[0m\u001b[1;33m]\u001b[0m\u001b[1;33m]\u001b[0m\u001b[1;33m\u001b[0m\u001b[0m\n\u001b[1;32m----> 4\u001b[1;33m \u001b[0mnew\u001b[0m\u001b[1;33m.\u001b[0m\u001b[0mto_excel\u001b[0m\u001b[1;33m(\u001b[0m\u001b[1;34m'd:\\\\结果.xls'\u001b[0m\u001b[1;33m)\u001b[0m\u001b[1;33m\u001b[0m\u001b[0m\n\u001b[0m",
      "\u001b[1;32mC:\\ProgramData\\Anaconda3\\lib\\site-packages\\pandas\\core\\frame.py\u001b[0m in \u001b[0;36mto_excel\u001b[1;34m(self, excel_writer, sheet_name, na_rep, float_format, columns, header, index, index_label, startrow, startcol, engine, merge_cells, encoding, inf_rep, verbose, freeze_panes)\u001b[0m\n\u001b[0;32m   1422\u001b[0m         formatter.write(excel_writer, sheet_name=sheet_name, startrow=startrow,\n\u001b[0;32m   1423\u001b[0m                         \u001b[0mstartcol\u001b[0m\u001b[1;33m=\u001b[0m\u001b[0mstartcol\u001b[0m\u001b[1;33m,\u001b[0m \u001b[0mfreeze_panes\u001b[0m\u001b[1;33m=\u001b[0m\u001b[0mfreeze_panes\u001b[0m\u001b[1;33m,\u001b[0m\u001b[1;33m\u001b[0m\u001b[0m\n\u001b[1;32m-> 1424\u001b[1;33m                         engine=engine)\n\u001b[0m\u001b[0;32m   1425\u001b[0m \u001b[1;33m\u001b[0m\u001b[0m\n\u001b[0;32m   1426\u001b[0m     def to_stata(self, fname, convert_dates=None, write_index=True,\n",
      "\u001b[1;32mC:\\ProgramData\\Anaconda3\\lib\\site-packages\\pandas\\io\\formats\\excel.py\u001b[0m in \u001b[0;36mwrite\u001b[1;34m(self, writer, sheet_name, startrow, startcol, freeze_panes, engine)\u001b[0m\n\u001b[0;32m    628\u001b[0m                            freeze_panes=freeze_panes)\n\u001b[0;32m    629\u001b[0m         \u001b[1;32mif\u001b[0m \u001b[0mneed_save\u001b[0m\u001b[1;33m:\u001b[0m\u001b[1;33m\u001b[0m\u001b[0m\n\u001b[1;32m--> 630\u001b[1;33m             \u001b[0mwriter\u001b[0m\u001b[1;33m.\u001b[0m\u001b[0msave\u001b[0m\u001b[1;33m(\u001b[0m\u001b[1;33m)\u001b[0m\u001b[1;33m\u001b[0m\u001b[0m\n\u001b[0m",
      "\u001b[1;32mC:\\ProgramData\\Anaconda3\\lib\\site-packages\\pandas\\io\\excel.py\u001b[0m in \u001b[0;36msave\u001b[1;34m(self)\u001b[0m\n\u001b[0;32m   1421\u001b[0m         \u001b[0mSave\u001b[0m \u001b[0mworkbook\u001b[0m \u001b[0mto\u001b[0m \u001b[0mdisk\u001b[0m\u001b[1;33m.\u001b[0m\u001b[1;33m\u001b[0m\u001b[0m\n\u001b[0;32m   1422\u001b[0m         \"\"\"\n\u001b[1;32m-> 1423\u001b[1;33m         \u001b[1;32mreturn\u001b[0m \u001b[0mself\u001b[0m\u001b[1;33m.\u001b[0m\u001b[0mbook\u001b[0m\u001b[1;33m.\u001b[0m\u001b[0msave\u001b[0m\u001b[1;33m(\u001b[0m\u001b[0mself\u001b[0m\u001b[1;33m.\u001b[0m\u001b[0mpath\u001b[0m\u001b[1;33m)\u001b[0m\u001b[1;33m\u001b[0m\u001b[0m\n\u001b[0m\u001b[0;32m   1424\u001b[0m \u001b[1;33m\u001b[0m\u001b[0m\n\u001b[0;32m   1425\u001b[0m     def write_cells(self, cells, sheet_name=None, startrow=0, startcol=0,\n",
      "\u001b[1;32mC:\\ProgramData\\Anaconda3\\lib\\site-packages\\xlwt\\Workbook.py\u001b[0m in \u001b[0;36msave\u001b[1;34m(self, filename_or_stream)\u001b[0m\n\u001b[0;32m    708\u001b[0m \u001b[1;33m\u001b[0m\u001b[0m\n\u001b[0;32m    709\u001b[0m         \u001b[0mdoc\u001b[0m \u001b[1;33m=\u001b[0m \u001b[0mCompoundDoc\u001b[0m\u001b[1;33m.\u001b[0m\u001b[0mXlsDoc\u001b[0m\u001b[1;33m(\u001b[0m\u001b[1;33m)\u001b[0m\u001b[1;33m\u001b[0m\u001b[0m\n\u001b[1;32m--> 710\u001b[1;33m         \u001b[0mdoc\u001b[0m\u001b[1;33m.\u001b[0m\u001b[0msave\u001b[0m\u001b[1;33m(\u001b[0m\u001b[0mfilename_or_stream\u001b[0m\u001b[1;33m,\u001b[0m \u001b[0mself\u001b[0m\u001b[1;33m.\u001b[0m\u001b[0mget_biff_data\u001b[0m\u001b[1;33m(\u001b[0m\u001b[1;33m)\u001b[0m\u001b[1;33m)\u001b[0m\u001b[1;33m\u001b[0m\u001b[0m\n\u001b[0m\u001b[0;32m    711\u001b[0m \u001b[1;33m\u001b[0m\u001b[0m\n\u001b[0;32m    712\u001b[0m \u001b[1;33m\u001b[0m\u001b[0m\n",
      "\u001b[1;32mC:\\ProgramData\\Anaconda3\\lib\\site-packages\\xlwt\\CompoundDoc.py\u001b[0m in \u001b[0;36msave\u001b[1;34m(self, file_name_or_filelike_obj, stream)\u001b[0m\n\u001b[0;32m    260\u001b[0m         \u001b[0mwe_own_it\u001b[0m \u001b[1;33m=\u001b[0m \u001b[1;32mnot\u001b[0m \u001b[0mhasattr\u001b[0m\u001b[1;33m(\u001b[0m\u001b[0mf\u001b[0m\u001b[1;33m,\u001b[0m \u001b[1;34m'write'\u001b[0m\u001b[1;33m)\u001b[0m\u001b[1;33m\u001b[0m\u001b[0m\n\u001b[0;32m    261\u001b[0m         \u001b[1;32mif\u001b[0m \u001b[0mwe_own_it\u001b[0m\u001b[1;33m:\u001b[0m\u001b[1;33m\u001b[0m\u001b[0m\n\u001b[1;32m--> 262\u001b[1;33m             \u001b[0mf\u001b[0m \u001b[1;33m=\u001b[0m \u001b[0mopen\u001b[0m\u001b[1;33m(\u001b[0m\u001b[0mfile_name_or_filelike_obj\u001b[0m\u001b[1;33m,\u001b[0m \u001b[1;34m'w+b'\u001b[0m\u001b[1;33m)\u001b[0m\u001b[1;33m\u001b[0m\u001b[0m\n\u001b[0m\u001b[0;32m    263\u001b[0m         \u001b[0mf\u001b[0m\u001b[1;33m.\u001b[0m\u001b[0mwrite\u001b[0m\u001b[1;33m(\u001b[0m\u001b[0mself\u001b[0m\u001b[1;33m.\u001b[0m\u001b[0mheader\u001b[0m\u001b[1;33m)\u001b[0m\u001b[1;33m\u001b[0m\u001b[0m\n\u001b[0;32m    264\u001b[0m         \u001b[0mf\u001b[0m\u001b[1;33m.\u001b[0m\u001b[0mwrite\u001b[0m\u001b[1;33m(\u001b[0m\u001b[0mself\u001b[0m\u001b[1;33m.\u001b[0m\u001b[0mpacked_MSAT_1st\u001b[0m\u001b[1;33m)\u001b[0m\u001b[1;33m\u001b[0m\u001b[0m\n",
      "\u001b[1;31mPermissionError\u001b[0m: [Errno 13] Permission denied: 'd:\\\\结果.xls'"
     ]
    }
   ],
   "source": [
    "# df[['分类', 'title简称']]\n",
    "# df[df['分类'] == '']['title简称']\n",
    "new = df[['store_name', '中类', '大类', '性别', 'price', 'quantity', 'sold', 'totalSoldQuantity', 'title', 'title简称']]\n",
    "new.to_excel('d:\\\\结果.xls')"
   ]
  },
  {
   "cell_type": "code",
   "execution_count": 273,
   "metadata": {
    "collapsed": true,
    "scrolled": true
   },
   "outputs": [],
   "source": [
    "# for one_item in df['none_brand_title']:\n",
    "# #     string = '.'.join(one_item)\n",
    "#     print(one_item)\n",
    "#     print(clothe_class.findall(one_item))"
   ]
  },
  {
   "cell_type": "code",
   "execution_count": 699,
   "metadata": {
    "collapsed": true
   },
   "outputs": [],
   "source": [
    "# df.loc[(df['title简称'].apply(lambda x: '衫' in x)) & (df['分类'] == '')][['title', '分类']]\n",
    "# df.loc[(df['title简称'].apply(lambda x: '克' in x)) & (df['分类'] == '')][['title','title简称']]"
   ]
  },
  {
   "cell_type": "code",
   "execution_count": 354,
   "metadata": {
    "collapsed": true
   },
   "outputs": [],
   "source": [
    "# clo_patt = re.compile(patt, re.I)"
   ]
  },
  {
   "cell_type": "code",
   "execution_count": 799,
   "metadata": {
    "collapsed": true,
    "scrolled": true
   },
   "outputs": [],
   "source": [
    "# df[df['分类'] != '']['分类']"
   ]
  },
  {
   "cell_type": "code",
   "execution_count": 375,
   "metadata": {
    "collapsed": true
   },
   "outputs": [],
   "source": [
    "# df.loc[df.index[df['title简称'].apply(lambda x: 'POLO' in x)], ['分类']] = 'POLO衫'\n",
    "# df.loc[df.index[(df['title简称'].apply(lambda x: '恤' in x))  & (df['分类'] == '')], ['分类']] = 'T恤'\n",
    "# df.loc[df.index[(df['title简称'].apply(lambda x: '衬' in x))  & (df['分类'] == '')], ['分类']] = '衬衫'\n",
    "# df.loc[df.index[(df['title简称'].apply(lambda x: '卫衣' in x))  & (df['分类'] == '')], ['分类']] = '卫衣'\n",
    "# df.loc[df.index[(df['title简称'].apply(lambda x: '毛衣' in x))  & (df['分类'] == '')], ['分类']] = '毛衣'\n",
    "# df.loc[df.index[(df['title简称'].apply(lambda x: '克' in x and '夹' in x))  & (df['分类'] == '')], ['分类']] = '夹克'\n",
    "# df.loc[df.index[(df['title简称'].apply(lambda x: '棉衣' in x))  & (df['分类'] == '')], ['分类']] = '棉衣'\n",
    "# df.loc[df.index[(df['title简称'].apply(lambda x: '风衣' in x))  & (df['分类'] == '')], ['分类']] = '风衣'\n",
    "# df.loc[df.index[(df['title简称'].apply(lambda x: '大衣' in x))  & (df['分类'] == '')], ['分类']] = '大衣'"
   ]
  },
  {
   "cell_type": "code",
   "execution_count": 801,
   "metadata": {
    "collapsed": true
   },
   "outputs": [],
   "source": [
    "pants_rank = {}\n",
    "with open(r\"D:\\文档\\天猫\\pants\") as f:\n",
    "    pants = f.read().split('\\n')\n",
    "for one_rank in pants:\n",
    "    pants_rank[one_rank] = '裤子'"
   ]
  },
  {
   "cell_type": "code",
   "execution_count": 771,
   "metadata": {
    "collapsed": true
   },
   "outputs": [],
   "source": [
    "pattern_2 = r'O型裤|POLO|T恤|八分裤|包|保温杯|背带裤|背心|背心吊带|编织衫|便服|便裤|便西|踩脚裤|超短裤|衬衫|衬衣|床单|打底裤|打底衫|\\\n",
    "大衣|道袍|灯笼裤|低裆跨裤|吊带|短裤|短款裤装|短外套|短卫裤|短袖恤|耳环|耳饰|帆布|飞鼠裤|风衣|福袋|格子衫|工装裤|挂绳|哈伦裤|合体喇叭裤|\\\n",
    "护照夹|加绒裤|家居服|家居裤|夹克|紧身裤|颈链|九分裤|开衫|口罩|裤口褶边|裤子|垮裤|阔脚裤|阔腿|喇叭裤|蕾丝衫|礼服|连体|连体短裤|连体裤|\\\n",
    "裙|连衣裤|领带|领结|六分裤|萝卜裤|马夹|马甲|慢跑裤|毛巾|毛衫|毛衣|毛针织衫|帽|棉服|棉裤|棉褛|棉衣|抹胸|内裤|牛仔裤|皮带|皮衣|拼条裤|\\\n",
    "七分裤|铅笔裤|钱夹|茄克|晴雨伞|绒衫|沙滩裤|上衣|上装|手机|手链|束脚|束腿裤|双裤腰|睡裤|睡袍|睡衣|碎花衫|锁骨|唐装|套衫|套头衫|套装|体恤|\\\n",
    "条纹裤|头带|袜|外套|微喇叭裤|微喇加长裤|微喇裤|围巾|卫裤|卫衣|文胸|五分裤|西服|西服套装|西裤|西装|西装裤|线衫|项链|小脚|小脚长裤|小衫|鞋|\\\n",
    "胸针|休闲裤|修身裤装|靴|雪纺衫|腰带|腰封|荧光棒|羽绒服|雨衣|浴巾|圆领|运动|运动裤|运动衫|长裤|长款裤装|长卫裤|褶皱裤|针织裤|针织衫|正装裤|\\\n",
    "直筒|中裤|锥裤|锥形裤|拉链时尚高腰|棒球服|条纹短|底裤|内衣|镜|领巾|袋|挂件|抱枕|裤|宽腿裤|起居裤|蝴蝶衣|长衫|护腿|毯子|手套|护颈|围脖|\\\n",
    "连身裤|挂饰|扎脚裤|绑结腿裤|雪纺衬|女裤|披肩|摆件|恤|衬|夹|窄口裤|罩衫|牛仔|松紧裤|起居|手环|发带|拖|衫|花式裤|利领|西|冰袖|喇叭袖|\\\n",
    "瘦腿裤|长袖中长款|巾|半身群|围|T|荷叶边|露肩|套'"
   ]
  },
  {
   "cell_type": "code",
   "execution_count": 772,
   "metadata": {
    "collapsed": true
   },
   "outputs": [],
   "source": [
    "dfff = pd.DataFrame(pattern_2.split('|'))"
   ]
  },
  {
   "cell_type": "code",
   "execution_count": 773,
   "metadata": {
    "collapsed": true,
    "scrolled": true
   },
   "outputs": [],
   "source": [
    "dfff.to_excel('d:\\\\fenlei.xls')"
   ]
  },
  {
   "cell_type": "code",
   "execution_count": 82,
   "metadata": {},
   "outputs": [],
   "source": [
    "with open(r\"C:\\Users\\leshuangjiang\\Desktop\\ppp\") as f:\n",
    "    skirts = [i.split('\\t') for i in f.read().split('\\n')]\n",
    "brand_sex = dict(skirts)"
   ]
  },
  {
   "cell_type": "code",
   "execution_count": 81,
   "metadata": {},
   "outputs": [
    {
     "data": {
      "text/plain": [
       "{'Aself': '',\n",
       " 'GU': '',\n",
       " 'GXG': '男',\n",
       " 'JNBY': '女',\n",
       " 'MG小象': '女',\n",
       " 'Material girl': '女',\n",
       " 'ONLY': '女',\n",
       " 'UR': '',\n",
       " 'VEROMODA': '女',\n",
       " 'clot': '男',\n",
       " 'gxgjeans': '男',\n",
       " 'jucyjudy': '女',\n",
       " 'kikc': '男',\n",
       " 'kon': '男',\n",
       " 'lilbetter': '男',\n",
       " 'lily': '女',\n",
       " 'me&city女装': '女',\n",
       " 'me&city男装': '男',\n",
       " 'npc': '男',\n",
       " 'trendiano': '男',\n",
       " 'viishow': '男',\n",
       " '伊芙丽': '女',\n",
       " '优衣库': '',\n",
       " '太平鸟女装': '女',\n",
       " '太平鸟男装': '男',\n",
       " '拉夏贝尔': '女',\n",
       " '播': '女',\n",
       " '杰克琼斯': '男',\n",
       " '欧时力': '女',\n",
       " '海澜之家': '男',\n",
       " '美特斯邦威': '',\n",
       " '茵曼': '女',\n",
       " '速写': '男',\n",
       " '阔色': '女',\n",
       " '韩都衣舍': '女',\n",
       " '麦檬': '女'}"
      ]
     },
     "execution_count": 81,
     "metadata": {},
     "output_type": "execute_result"
    }
   ],
   "source": []
  },
  {
   "cell_type": "code",
   "execution_count": 1147,
   "metadata": {
    "collapsed": true
   },
   "outputs": [],
   "source": [
    "s = df['title']"
   ]
  },
  {
   "cell_type": "code",
   "execution_count": 1146,
   "metadata": {
    "collapsed": true
   },
   "outputs": [],
   "source": [
    "# "
   ]
  },
  {
   "cell_type": "code",
   "execution_count": null,
   "metadata": {
    "collapsed": true
   },
   "outputs": [],
   "source": [
    "# s.isin(['婴儿'])"
   ]
  },
  {
   "cell_type": "code",
   "execution_count": null,
   "metadata": {
    "collapsed": true
   },
   "outputs": [],
   "source": [
    "# s[s]"
   ]
  },
  {
   "cell_type": "code",
   "execution_count": 396,
   "metadata": {
    "collapsed": true
   },
   "outputs": [],
   "source": [
    "p = r'A字裙|O型裤|POLO|T恤|八分裤|百褶裙|半裙|半身裙|包|包臀裙|保温杯|背带裤|背带裙|背心|背心吊带|编织衫|便服|便裤|便西|\\\n",
    "不规则裙|踩脚裤|超短裤|超短裙|衬衫|衬衣|床单|打底裤|打底衫|大衣|蛋糕裙|道袍|灯笼裤|灯笼裙|低裆跨裤|吊带|短裤|短款裤装|短裙|短外套|\\\n",
    "短卫裤|短袖恤|耳环|耳饰|帆布|飞鼠裤|风衣|福袋|高腰裙|格子衫|工装裤|公主裙|挂绳|哈伦裤|合体喇叭裤|荷叶边裙|护照夹|花苞裙|及膝裙|加绒裤|\\\n",
    "家居服|家居裤|夹克|紧身裤|颈链|九分裤|开衫|口罩|裤口褶边|裤子|垮裤|阔脚裤|阔腿|喇叭裤|蕾丝衫|礼服|连身裙|连体|连体短裤|连体裤|连衣|\\\n",
    "连衣裤|连衣裙|领带|领结|六分裤|萝卜裤|马夹|马甲|慢跑裤|毛巾|毛衫|毛衣|毛针织衫|帽|棉服|棉裤|棉褛|棉衣|抹胸|内裤|牛仔裤|牛仔裙|蓬蓬裙|\\\n",
    "皮带|皮衣|拼条裤|七分裤|七分裙|铅笔裤|铅笔裙|钱夹|茄克|晴雨伞|裙裤|绒衫|伞裙|沙滩裤|纱裙|上衣|上装|手机|手链|束脚|束腿裤|双裤腰|睡裤|\\\n",
    "睡袍|睡衣|碎花衫|锁骨|唐装|套裙|套衫|套头衫|套装|体恤|条纹裤|头带|袜|外套|微喇叭裤|微喇加长裤|微喇裤|围巾|卫裤|卫衣|文胸|五分裤|五分裙|\\\n",
    "西服|西服套装|西裤|西装|西装裤|西装裙|仙女裙|线衫|项链|小黑裙|小脚|小脚长裤|小衫|鞋|胸针|休闲裤|修身裤装|靴|雪纺衫|腰带|腰封|\\\n",
    "一步裙|荧光棒|羽绒服|雨衣|浴巾|圆领|运动黑色韩版裤|运动裤|运动衫|长裤|长款裤装|长裙|长筒裙|长卫裤|褶皱裤|针织裤|针织衫|正装裤|直筒|直筒裤|\\\n",
    "直筒裤装|直筒长裤|中裤|中裙|中长裙|锥裤|锥形裤|拉链时尚高腰|棒球服|鱼尾裙|透视裙|条纹短|底裤|内衣|镜|领巾|袋|挂件|碎花裙|抱枕|太平鸟A|\\\n",
    "休闲男裤|绣花裙|大摆裙|宽腿裤|起居裤|迷你裙|蕾丝裙|窄身裙|喇叭裙|打褶裙|排扣裙|紧身裙|罗纹裙|弹力裙|蝴蝶衣|裙子|长衫|护腿|毯子|手套|护颈|\\\n",
    "围脖|连身裤|挂饰|扎脚裤|绑结腿裤|雪纺衬|女裤|披肩|摆件|T|衬|夹|窄口裤|睡裙|罩衫|牛仔|松紧裤|起居|手环|发带|拖|衫|花式裤|利领|西|冰袖|\\\n",
    "喇叭袖|瘦腿裤|腰裙|长袖中长款|丝巾|半身群|针织裙|围领|雪纺裙'"
   ]
  },
  {
   "cell_type": "code",
   "execution_count": 398,
   "metadata": {
    "collapsed": true
   },
   "outputs": [],
   "source": [
    "pf = pd.DataFrame(p.split('|'))"
   ]
  },
  {
   "cell_type": "code",
   "execution_count": 399,
   "metadata": {
    "collapsed": true
   },
   "outputs": [],
   "source": [
    "pf.to_excel(r'd:\\\\fenlei2.xls')"
   ]
  },
  {
   "cell_type": "code",
   "execution_count": null,
   "metadata": {
    "collapsed": true
   },
   "outputs": [],
   "source": []
  }
 ],
 "metadata": {
  "kernelspec": {
   "display_name": "Python 3",
   "language": "python",
   "name": "python3"
  },
  "language_info": {
   "codemirror_mode": {
    "name": "ipython",
    "version": 3
   },
   "file_extension": ".py",
   "mimetype": "text/x-python",
   "name": "python",
   "nbconvert_exporter": "python",
   "pygments_lexer": "ipython3",
   "version": "3.6.2"
  }
 },
 "nbformat": 4,
 "nbformat_minor": 2
}
