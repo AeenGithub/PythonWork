{
 "cells": [
  {
   "cell_type": "code",
   "execution_count": 1,
   "metadata": {},
   "outputs": [],
   "source": [
    "import pandas as pd\n",
    "import numpy as np\n",
    "import sqlite3 as mysql\n",
    "import time\n",
    "import re\n",
    "from datetime import datetime"
   ]
  },
  {
   "cell_type": "code",
   "execution_count": 2,
   "metadata": {},
   "outputs": [],
   "source": [
    "conn = mysql.connect(r\"D:\\SQLBASE\\weather.db\")"
   ]
  },
  {
   "cell_type": "code",
   "execution_count": 3,
   "metadata": {},
   "outputs": [],
   "source": [
    "cur = conn.cursor()"
   ]
  },
  {
   "cell_type": "code",
   "execution_count": 4,
   "metadata": {},
   "outputs": [],
   "source": [
    "cur.execute('select count(ymd) from history_tem_right_20110101_20181225')\n",
    "total_rows = cur.fetchone()[0]"
   ]
  },
  {
   "cell_type": "code",
   "execution_count": 2,
   "metadata": {},
   "outputs": [],
   "source": [
    "conn2 = mysql.connect(r\"D:\\SQLBASE\\WeatherBefore.db\")\n",
    "curs = conn2.cursor()"
   ]
  },
  {
   "cell_type": "code",
   "execution_count": 107,
   "metadata": {},
   "outputs": [
    {
     "name": "stdout",
     "output_type": "stream",
     "text": [
      "第1个10万数据正在访问\n",
      "第2个10万数据正在访问\n",
      "第3个10万数据正在访问\n",
      "第4个10万数据正在访问\n",
      "第5个10万数据正在访问\n",
      "第6个10万数据正在访问\n",
      "第7个10万数据正在访问\n",
      "第8个10万数据正在访问\n",
      "第9个10万数据正在访问\n",
      "第10个10万数据正在访问\n",
      "第11个10万数据正在访问\n",
      "第12个10万数据正在访问\n",
      "第13个10万数据正在访问\n",
      "第14个10万数据正在访问\n",
      "第15个10万数据正在访问\n",
      "第16个10万数据正在访问\n",
      "第17个10万数据正在访问\n",
      "第18个10万数据正在访问\n",
      "第19个10万数据正在访问\n",
      "第20个10万数据正在访问\n",
      "第21个10万数据正在访问\n",
      "第22个10万数据正在访问\n",
      "第23个10万数据正在访问\n",
      "第24个10万数据正在访问\n",
      "第25个10万数据正在访问\n",
      "第26个10万数据正在访问\n",
      "第27个10万数据正在访问\n",
      "第28个10万数据正在访问\n",
      "第29个10万数据正在访问\n",
      "第30个10万数据正在访问\n",
      "第31个10万数据正在访问\n",
      "第32个10万数据正在访问\n",
      "第33个10万数据正在访问\n",
      "第34个10万数据正在访问\n",
      "第35个10万数据正在访问\n",
      "第36个10万数据正在访问\n",
      "第37个10万数据正在访问\n",
      "第38个10万数据正在访问\n",
      "第39个10万数据正在访问\n",
      "第40个10万数据正在访问\n",
      "第41个10万数据正在访问\n",
      "第42个10万数据正在访问\n",
      "第43个10万数据正在访问\n",
      "第44个10万数据正在访问\n",
      "第45个10万数据正在访问\n",
      "第46个10万数据正在访问\n",
      "数据已经写过，跳过\n",
      " UNIQUE constraint failed: WeatherAll.city_ymd\n",
      "第47个10万数据正在访问\n",
      "第48个10万数据正在访问\n",
      "第49个10万数据正在访问\n",
      "第50个10万数据正在访问\n",
      "第51个10万数据正在访问\n",
      "第52个10万数据正在访问\n",
      "第53个10万数据正在访问\n",
      "第54个10万数据正在访问\n",
      "第55个10万数据正在访问\n",
      "第56个10万数据正在访问\n",
      "第57个10万数据正在访问\n",
      "第58个10万数据正在访问\n",
      "第59个10万数据正在访问\n",
      "第60个10万数据正在访问\n",
      "数据已经写过，跳过\n",
      " UNIQUE constraint failed: WeatherAll.city_ymd\n",
      "第61个10万数据正在访问\n",
      "数据已经写过，跳过\n",
      " UNIQUE constraint failed: WeatherAll.city_ymd\n",
      "第62个10万数据正在访问\n",
      "数据已经写过，跳过\n",
      " UNIQUE constraint failed: WeatherAll.city_ymd\n",
      "第63个10万数据正在访问\n",
      "数据已经写过，跳过\n",
      " UNIQUE constraint failed: WeatherAll.city_ymd\n",
      "第64个10万数据正在访问\n",
      "数据已经写过，跳过\n",
      " UNIQUE constraint failed: WeatherAll.city_ymd\n",
      "第65个10万数据正在访问\n",
      "第66个10万数据正在访问\n",
      "第67个10万数据正在访问\n",
      "数据已经写过，跳过\n",
      " UNIQUE constraint failed: WeatherAll.city_ymd\n",
      "第68个10万数据正在访问\n",
      "数据已经写过，跳过\n",
      " UNIQUE constraint failed: WeatherAll.city_ymd\n",
      "第69个10万数据正在访问\n",
      "数据已经写过，跳过\n",
      " UNIQUE constraint failed: WeatherAll.city_ymd\n",
      "第70个10万数据正在访问\n",
      "第71个10万数据正在访问\n",
      "第72个10万数据正在访问\n",
      "数据已经写过，跳过\n",
      " UNIQUE constraint failed: WeatherAll.city_ymd\n",
      "第73个10万数据正在访问\n",
      "第74个10万数据正在访问\n",
      "数据已经写过，跳过\n",
      " UNIQUE constraint failed: WeatherAll.city_ymd\n",
      "第75个10万数据正在访问\n",
      "数据已经写过，跳过\n",
      " UNIQUE constraint failed: WeatherAll.city_ymd\n",
      "第76个10万数据正在访问\n"
     ]
    }
   ],
   "source": [
    "cur.execute('select * from history_tem_right_20110101_20181225')\n",
    "haved_df = pd.read_sql('select city_ymd from WeatherAll', conn2)\n",
    "haved_df.drop_duplicates(inplace=True)\n",
    "col_name_list = [tuple[0] for tuple in cur.description]\n",
    "for index in range(1, total_rows//100000+2):\n",
    "    print('第{}个10万数据正在访问'.format(index))\n",
    "    million_piece = cur.fetchmany(100000)\n",
    "    million_df = pd.DataFrame(million_piece, columns=col_name_list)\n",
    "    \n",
    "    million_df = million_df.loc[million_df['city'] != None].copy()\n",
    "\n",
    "    million_df['city_ymd'] = million_df['city'] + '-' + million_df['ymd'].apply(lambda x: str(x))\n",
    "    million_df = million_df[~million_df['city_ymd'].isin(haved_df['city_ymd'].tolist())]\n",
    "    if not million_df.empty:\n",
    "        million_df['ymd_time'] = million_df['ymd'].apply(lambda x: datetime.strptime(str(x), '%Y%m%d'))\n",
    "        million_df['year'] = million_df['year'].apply(lambda x: str(x))\n",
    "        million_df['month'] = million_df['ymd'].apply(lambda x: str(x)[4:-2])\n",
    "        million_df['day'] = million_df['ymd'].apply(lambda x: str(x)[-2:])\n",
    "\n",
    "        million_df['max_tm'] = million_df['max_tm'].apply(lambda x: int(x) if x is not None and x.isdigit() else np.NaN)\n",
    "        million_df['min_tm'] = million_df['min_tm'].apply(lambda x: int(x) if x is not None and x.isdigit() else np.NaN)\n",
    "        million_df['weekday'] = million_df['ymd_time'].dt.weekday + 1\n",
    "\n",
    "        million_df.drop(columns=['ymd_time'], inplace=True)\n",
    "\n",
    "        million_df['ave_tm'] = (million_df['max_tm'] + million_df['min_tm']) * 0.5\n",
    "        million_df.drop_duplicates(inplace=True)\n",
    "        try:\n",
    "            million_df.to_sql(\n",
    "                name='WeatherAll',\n",
    "                con=conn2,\n",
    "                chunksize=100000,\n",
    "                if_exists = 'append',\n",
    "                index=False,\n",
    "                )\n",
    "            conn2.commit()\n",
    "        except mysql.IntegrityError as e:\n",
    "            print('数据已经写过，跳过\\n', e)"
   ]
  },
  {
   "cell_type": "code",
   "execution_count": 18,
   "metadata": {},
   "outputs": [],
   "source": [
    "conn2.commit()"
   ]
  },
  {
   "cell_type": "code",
   "execution_count": 19,
   "metadata": {},
   "outputs": [],
   "source": [
    "conn2.close()"
   ]
  },
  {
   "cell_type": "code",
   "execution_count": 57,
   "metadata": {},
   "outputs": [],
   "source": []
  },
  {
   "cell_type": "code",
   "execution_count": 20,
   "metadata": {},
   "outputs": [
    {
     "data": {
      "text/plain": [
       "True"
      ]
     },
     "execution_count": 20,
     "metadata": {},
     "output_type": "execute_result"
    }
   ],
   "source": [
    "a = '2'\n",
    "a.isdigit()"
   ]
  },
  {
   "cell_type": "code",
   "execution_count": 115,
   "metadata": {},
   "outputs": [
    {
     "data": {
      "text/plain": [
       "<sqlite3.Cursor at 0x288bdfaf180>"
      ]
     },
     "execution_count": 115,
     "metadata": {},
     "output_type": "execute_result"
    }
   ],
   "source": [
    "curs.execute('select * from WeatherAll where city_ymd ISNULL')"
   ]
  },
  {
   "cell_type": "code",
   "execution_count": 13,
   "metadata": {},
   "outputs": [],
   "source": [
    "# curs.fetchall()"
   ]
  },
  {
   "cell_type": "code",
   "execution_count": 3,
   "metadata": {},
   "outputs": [],
   "source": [
    "config_df = pd.read_csv('select_month.csv')"
   ]
  },
  {
   "cell_type": "code",
   "execution_count": 4,
   "metadata": {},
   "outputs": [],
   "source": [
    "config_df['time'] = config_df.apply(lambda x: pd.Timestamp(int(x['year']), int(x['month']), 1), axis=1)"
   ]
  },
  {
   "cell_type": "code",
   "execution_count": 6,
   "metadata": {},
   "outputs": [],
   "source": [
    "time_df = pd.DataFrame(pd.date_range(start='20110101', end='20301231', freq='M'))"
   ]
  },
  {
   "cell_type": "code",
   "execution_count": 7,
   "metadata": {},
   "outputs": [],
   "source": [
    "time_df['time'] = time_df[0].apply(lambda x: datetime.strftime(x, '%Y%m'))"
   ]
  },
  {
   "cell_type": "code",
   "execution_count": 8,
   "metadata": {},
   "outputs": [],
   "source": [
    "config_df['time'] = config_df['time'].apply(lambda x: datetime.strftime(x, '%Y%m'))"
   ]
  },
  {
   "cell_type": "code",
   "execution_count": 9,
   "metadata": {},
   "outputs": [],
   "source": [
    "total_cities = []\n",
    "for one_city in config_df['city'].unique():\n",
    "    time_df2 = time_df.copy()\n",
    "    time_df2['city'] = one_city\n",
    "    total_cities.append(time_df2)"
   ]
  },
  {
   "cell_type": "code",
   "execution_count": 10,
   "metadata": {},
   "outputs": [],
   "source": [
    "total_city_df = pd.concat(total_cities, sort=False)"
   ]
  },
  {
   "cell_type": "code",
   "execution_count": 12,
   "metadata": {},
   "outputs": [],
   "source": [
    "total_city_df.columns = ['date', 'year_month', 'city']"
   ]
  },
  {
   "cell_type": "code",
   "execution_count": 16,
   "metadata": {},
   "outputs": [],
   "source": [
    "total_city_df['city_year_month'] = total_city_df['city'] + '_' + total_city_df['year_month'].map(str)"
   ]
  },
  {
   "cell_type": "code",
   "execution_count": 17,
   "metadata": {},
   "outputs": [],
   "source": [
    "total_city_df.to_sql(name='config_date_city',\n",
    "                con=conn2,\n",
    "                chunksize=100000,\n",
    "                if_exists='append',\n",
    "                index=False)"
   ]
  },
  {
   "cell_type": "code",
   "execution_count": 170,
   "metadata": {},
   "outputs": [],
   "source": [
    "result_df = config_df.merge(total_city_df, on=['city', 'time'], how='outer')"
   ]
  },
  {
   "cell_type": "code",
   "execution_count": 176,
   "metadata": {},
   "outputs": [],
   "source": [
    "need_more_df = result_df.loc[(result_df[0] < pd.Timestamp(2019,11, 11)) & (result_df['count'].isna())].copy()"
   ]
  },
  {
   "cell_type": "code",
   "execution_count": 178,
   "metadata": {},
   "outputs": [],
   "source": [
    "need_more_df[['city', 'time']].to_clipboard()"
   ]
  },
  {
   "cell_type": "code",
   "execution_count": 180,
   "metadata": {},
   "outputs": [],
   "source": [
    "need_more_df['weather_url'] = need_more_df.apply(lambda x: \"http://www.tianqihoubao.com/lishi/%s/month/%s.html\" % (x['city'], x['time']),axis=1)"
   ]
  },
  {
   "cell_type": "code",
   "execution_count": 190,
   "metadata": {},
   "outputs": [],
   "source": [
    "aa = need_more_df[['city', 'time', 'weather_url']]"
   ]
  },
  {
   "cell_type": "code",
   "execution_count": 202,
   "metadata": {},
   "outputs": [
    {
     "data": {
      "text/plain": [
       "'http://www.tianqihoubao.com/lishi/aba/month/201908.html'"
      ]
     },
     "execution_count": 202,
     "metadata": {},
     "output_type": "execute_result"
    }
   ],
   "source": [
    "aa.set_index(['city', 'time']).to_dict()['weather_url']"
   ]
  },
  {
   "cell_type": "code",
   "execution_count": 3,
   "metadata": {},
   "outputs": [],
   "source": [
    "df = pd.read_excel(r\"E:\\文档\\Python\\VisualCode\\工作交接\\天气爬虫-d\\后报\\数据爬取\\city_config.xls\")"
   ]
  },
  {
   "cell_type": "code",
   "execution_count": 4,
   "metadata": {},
   "outputs": [
    {
     "data": {
      "text/html": [
       "<div>\n",
       "<style scoped>\n",
       "    .dataframe tbody tr th:only-of-type {\n",
       "        vertical-align: middle;\n",
       "    }\n",
       "\n",
       "    .dataframe tbody tr th {\n",
       "        vertical-align: top;\n",
       "    }\n",
       "\n",
       "    .dataframe thead th {\n",
       "        text-align: right;\n",
       "    }\n",
       "</style>\n",
       "<table border=\"1\" class=\"dataframe\">\n",
       "  <thead>\n",
       "    <tr style=\"text-align: right;\">\n",
       "      <th></th>\n",
       "      <th>city</th>\n",
       "      <th>area</th>\n",
       "      <th>s_area</th>\n",
       "      <th>area_name</th>\n",
       "      <th>provi</th>\n",
       "    </tr>\n",
       "  </thead>\n",
       "  <tbody>\n",
       "    <tr>\n",
       "      <th>0</th>\n",
       "      <td>aba</td>\n",
       "      <td>南大区</td>\n",
       "      <td>西南</td>\n",
       "      <td>阿坝</td>\n",
       "      <td>四川</td>\n",
       "    </tr>\n",
       "    <tr>\n",
       "      <th>1</th>\n",
       "      <td>abagaqi</td>\n",
       "      <td>华北大区</td>\n",
       "      <td>北一</td>\n",
       "      <td>阿巴嘎旗</td>\n",
       "      <td>内蒙古</td>\n",
       "    </tr>\n",
       "    <tr>\n",
       "      <th>2</th>\n",
       "      <td>acheng</td>\n",
       "      <td>北大区</td>\n",
       "      <td>东北</td>\n",
       "      <td>阿城</td>\n",
       "      <td>黑龙江</td>\n",
       "    </tr>\n",
       "    <tr>\n",
       "      <th>3</th>\n",
       "      <td>aershan</td>\n",
       "      <td>华北大区</td>\n",
       "      <td>北一</td>\n",
       "      <td>阿尔山</td>\n",
       "      <td>内蒙古</td>\n",
       "    </tr>\n",
       "    <tr>\n",
       "      <th>4</th>\n",
       "      <td>aheqi</td>\n",
       "      <td>北大区</td>\n",
       "      <td>西北</td>\n",
       "      <td>阿合奇</td>\n",
       "      <td>新疆</td>\n",
       "    </tr>\n",
       "  </tbody>\n",
       "</table>\n",
       "</div>"
      ],
      "text/plain": [
       "      city  area s_area area_name provi\n",
       "0      aba   南大区     西南        阿坝    四川\n",
       "1  abagaqi  华北大区     北一      阿巴嘎旗   内蒙古\n",
       "2   acheng   北大区     东北        阿城   黑龙江\n",
       "3  aershan  华北大区     北一       阿尔山   内蒙古\n",
       "4    aheqi   北大区     西北       阿合奇    新疆"
      ]
     },
     "execution_count": 4,
     "metadata": {},
     "output_type": "execute_result"
    }
   ],
   "source": [
    "df.head()"
   ]
  },
  {
   "cell_type": "code",
   "execution_count": 5,
   "metadata": {},
   "outputs": [],
   "source": [
    "df.drop_duplicates(inplace=True)"
   ]
  },
  {
   "cell_type": "code",
   "execution_count": 7,
   "metadata": {},
   "outputs": [
    {
     "data": {
      "text/plain": [
       "2388"
      ]
     },
     "execution_count": 7,
     "metadata": {},
     "output_type": "execute_result"
    }
   ],
   "source": [
    "df['city'].nunique()"
   ]
  },
  {
   "cell_type": "code",
   "execution_count": 8,
   "metadata": {},
   "outputs": [
    {
     "data": {
      "text/plain": [
       "(2388, 5)"
      ]
     },
     "execution_count": 8,
     "metadata": {},
     "output_type": "execute_result"
    }
   ],
   "source": [
    "df.shape"
   ]
  },
  {
   "cell_type": "code",
   "execution_count": 14,
   "metadata": {},
   "outputs": [],
   "source": [
    "df.to_sql(name='config_city_area',\n",
    "          con=conn2,\n",
    "          if_exists='append',\n",
    "          index=False,\n",
    "          chunksize=100000,\n",
    "#           method='multi'\n",
    "         )"
   ]
  },
  {
   "cell_type": "code",
   "execution_count": null,
   "metadata": {},
   "outputs": [],
   "source": []
  }
 ],
 "metadata": {
  "kernelspec": {
   "display_name": "Python 3",
   "language": "python",
   "name": "python3"
  },
  "language_info": {
   "codemirror_mode": {
    "name": "ipython",
    "version": 3
   },
   "file_extension": ".py",
   "mimetype": "text/x-python",
   "name": "python",
   "nbconvert_exporter": "python",
   "pygments_lexer": "ipython3",
   "version": "3.7.3"
  }
 },
 "nbformat": 4,
 "nbformat_minor": 2
}
