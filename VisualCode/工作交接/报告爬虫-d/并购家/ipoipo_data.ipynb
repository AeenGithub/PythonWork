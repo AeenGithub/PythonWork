{
 "cells": [
  {
   "cell_type": "code",
   "execution_count": 5,
   "metadata": {},
   "outputs": [],
   "source": [
    "# coding utf-8\n",
    "import pandas as pd \n",
    "import requests,os\n",
    "from lxml import etree\n",
    "import urllib.request "
   ]
  },
  {
   "cell_type": "code",
   "execution_count": 6,
   "metadata": {},
   "outputs": [
    {
     "ename": "TypeError",
     "evalue": "get_xpath() missing 1 required positional argument: 'ori'",
     "output_type": "error",
     "traceback": [
      "\u001b[1;31m---------------------------------------------------------------------------\u001b[0m",
      "\u001b[1;31mTypeError\u001b[0m                                 Traceback (most recent call last)",
      "\u001b[1;32m<ipython-input-6-d389473839a9>\u001b[0m in \u001b[0;36m<module>\u001b[1;34m\u001b[0m\n\u001b[0;32m      1\u001b[0m \u001b[0mbase_url\u001b[0m \u001b[1;33m=\u001b[0m \u001b[1;34m'http://www.ipoipo.cn/search.php?q=%E9%9B%B6%E5%94%AE'\u001b[0m\u001b[1;33m\u001b[0m\u001b[1;33m\u001b[0m\u001b[0m\n\u001b[0;32m      2\u001b[0m \u001b[0mhtml\u001b[0m \u001b[1;33m=\u001b[0m \u001b[0mget_html\u001b[0m\u001b[1;33m(\u001b[0m\u001b[0mbase_url\u001b[0m\u001b[1;33m)\u001b[0m\u001b[1;33m\u001b[0m\u001b[1;33m\u001b[0m\u001b[0m\n\u001b[1;32m----> 3\u001b[1;33m \u001b[0mout\u001b[0m \u001b[1;33m=\u001b[0m \u001b[0mpd\u001b[0m\u001b[1;33m.\u001b[0m\u001b[0mDataFrame\u001b[0m\u001b[1;33m(\u001b[0m\u001b[1;33m[\u001b[0m\u001b[0mget_xpath\u001b[0m\u001b[1;33m(\u001b[0m\u001b[0m_\u001b[0m\u001b[1;33m)\u001b[0m \u001b[1;32mfor\u001b[0m \u001b[0m_\u001b[0m \u001b[1;32min\u001b[0m \u001b[1;33m[\u001b[0m\u001b[0mtitle\u001b[0m\u001b[1;33m,\u001b[0m\u001b[0msubtitle\u001b[0m\u001b[1;33m,\u001b[0m\u001b[0mpic\u001b[0m\u001b[1;33m,\u001b[0m\u001b[0mcreatedata\u001b[0m\u001b[1;33m,\u001b[0m\u001b[0mdetail_url\u001b[0m\u001b[1;33m,\u001b[0m\u001b[0mreading\u001b[0m\u001b[1;33m]\u001b[0m\u001b[1;33m]\u001b[0m\u001b[1;33m)\u001b[0m\u001b[1;33m.\u001b[0m\u001b[0mT\u001b[0m\u001b[1;33m\u001b[0m\u001b[1;33m\u001b[0m\u001b[0m\n\u001b[0m\u001b[0;32m      4\u001b[0m \u001b[0mout\u001b[0m\u001b[1;33m.\u001b[0m\u001b[0mcolumns\u001b[0m \u001b[1;33m=\u001b[0m \u001b[1;33m[\u001b[0m\u001b[1;34m'title'\u001b[0m\u001b[1;33m,\u001b[0m\u001b[1;34m'subtitle'\u001b[0m\u001b[1;33m,\u001b[0m\u001b[1;34m'pic'\u001b[0m\u001b[1;33m,\u001b[0m\u001b[1;34m'createdata'\u001b[0m\u001b[1;33m,\u001b[0m\u001b[1;34m'detail_url'\u001b[0m\u001b[1;33m,\u001b[0m\u001b[1;34m'reading'\u001b[0m\u001b[1;33m]\u001b[0m\u001b[1;33m\u001b[0m\u001b[1;33m\u001b[0m\u001b[0m\n\u001b[0;32m      5\u001b[0m \u001b[0mout\u001b[0m\u001b[1;33m[\u001b[0m\u001b[1;34m'downloadurl'\u001b[0m\u001b[1;33m]\u001b[0m\u001b[1;33m=\u001b[0m \u001b[0mout\u001b[0m\u001b[1;33m[\u001b[0m\u001b[1;34m'detail_url'\u001b[0m\u001b[1;33m]\u001b[0m\u001b[1;33m.\u001b[0m\u001b[0mmap\u001b[0m\u001b[1;33m(\u001b[0m\u001b[1;32mlambda\u001b[0m \u001b[0mx\u001b[0m\u001b[1;33m:\u001b[0m\u001b[0mx\u001b[0m\u001b[1;33m.\u001b[0m\u001b[0mreplace\u001b[0m\u001b[1;33m(\u001b[0m\u001b[1;34m'post'\u001b[0m\u001b[1;33m,\u001b[0m\u001b[1;34m'download'\u001b[0m\u001b[1;33m)\u001b[0m\u001b[1;33m.\u001b[0m\u001b[0mreplace\u001b[0m\u001b[1;33m(\u001b[0m\u001b[1;34m'www.ipoipo.cn'\u001b[0m\u001b[1;33m,\u001b[0m\u001b[1;34m'ipoipo.net'\u001b[0m\u001b[1;33m)\u001b[0m\u001b[1;33m)\u001b[0m\u001b[1;33m\u001b[0m\u001b[1;33m\u001b[0m\u001b[0m\n",
      "\u001b[1;32m<ipython-input-6-d389473839a9>\u001b[0m in \u001b[0;36m<listcomp>\u001b[1;34m(.0)\u001b[0m\n\u001b[0;32m      1\u001b[0m \u001b[0mbase_url\u001b[0m \u001b[1;33m=\u001b[0m \u001b[1;34m'http://www.ipoipo.cn/search.php?q=%E9%9B%B6%E5%94%AE'\u001b[0m\u001b[1;33m\u001b[0m\u001b[1;33m\u001b[0m\u001b[0m\n\u001b[0;32m      2\u001b[0m \u001b[0mhtml\u001b[0m \u001b[1;33m=\u001b[0m \u001b[0mget_html\u001b[0m\u001b[1;33m(\u001b[0m\u001b[0mbase_url\u001b[0m\u001b[1;33m)\u001b[0m\u001b[1;33m\u001b[0m\u001b[1;33m\u001b[0m\u001b[0m\n\u001b[1;32m----> 3\u001b[1;33m \u001b[0mout\u001b[0m \u001b[1;33m=\u001b[0m \u001b[0mpd\u001b[0m\u001b[1;33m.\u001b[0m\u001b[0mDataFrame\u001b[0m\u001b[1;33m(\u001b[0m\u001b[1;33m[\u001b[0m\u001b[0mget_xpath\u001b[0m\u001b[1;33m(\u001b[0m\u001b[0m_\u001b[0m\u001b[1;33m)\u001b[0m \u001b[1;32mfor\u001b[0m \u001b[0m_\u001b[0m \u001b[1;32min\u001b[0m \u001b[1;33m[\u001b[0m\u001b[0mtitle\u001b[0m\u001b[1;33m,\u001b[0m\u001b[0msubtitle\u001b[0m\u001b[1;33m,\u001b[0m\u001b[0mpic\u001b[0m\u001b[1;33m,\u001b[0m\u001b[0mcreatedata\u001b[0m\u001b[1;33m,\u001b[0m\u001b[0mdetail_url\u001b[0m\u001b[1;33m,\u001b[0m\u001b[0mreading\u001b[0m\u001b[1;33m]\u001b[0m\u001b[1;33m]\u001b[0m\u001b[1;33m)\u001b[0m\u001b[1;33m.\u001b[0m\u001b[0mT\u001b[0m\u001b[1;33m\u001b[0m\u001b[1;33m\u001b[0m\u001b[0m\n\u001b[0m\u001b[0;32m      4\u001b[0m \u001b[0mout\u001b[0m\u001b[1;33m.\u001b[0m\u001b[0mcolumns\u001b[0m \u001b[1;33m=\u001b[0m \u001b[1;33m[\u001b[0m\u001b[1;34m'title'\u001b[0m\u001b[1;33m,\u001b[0m\u001b[1;34m'subtitle'\u001b[0m\u001b[1;33m,\u001b[0m\u001b[1;34m'pic'\u001b[0m\u001b[1;33m,\u001b[0m\u001b[1;34m'createdata'\u001b[0m\u001b[1;33m,\u001b[0m\u001b[1;34m'detail_url'\u001b[0m\u001b[1;33m,\u001b[0m\u001b[1;34m'reading'\u001b[0m\u001b[1;33m]\u001b[0m\u001b[1;33m\u001b[0m\u001b[1;33m\u001b[0m\u001b[0m\n\u001b[0;32m      5\u001b[0m \u001b[0mout\u001b[0m\u001b[1;33m[\u001b[0m\u001b[1;34m'downloadurl'\u001b[0m\u001b[1;33m]\u001b[0m\u001b[1;33m=\u001b[0m \u001b[0mout\u001b[0m\u001b[1;33m[\u001b[0m\u001b[1;34m'detail_url'\u001b[0m\u001b[1;33m]\u001b[0m\u001b[1;33m.\u001b[0m\u001b[0mmap\u001b[0m\u001b[1;33m(\u001b[0m\u001b[1;32mlambda\u001b[0m \u001b[0mx\u001b[0m\u001b[1;33m:\u001b[0m\u001b[0mx\u001b[0m\u001b[1;33m.\u001b[0m\u001b[0mreplace\u001b[0m\u001b[1;33m(\u001b[0m\u001b[1;34m'post'\u001b[0m\u001b[1;33m,\u001b[0m\u001b[1;34m'download'\u001b[0m\u001b[1;33m)\u001b[0m\u001b[1;33m.\u001b[0m\u001b[0mreplace\u001b[0m\u001b[1;33m(\u001b[0m\u001b[1;34m'www.ipoipo.cn'\u001b[0m\u001b[1;33m,\u001b[0m\u001b[1;34m'ipoipo.net'\u001b[0m\u001b[1;33m)\u001b[0m\u001b[1;33m)\u001b[0m\u001b[1;33m\u001b[0m\u001b[1;33m\u001b[0m\u001b[0m\n",
      "\u001b[1;31mTypeError\u001b[0m: get_xpath() missing 1 required positional argument: 'ori'"
     ]
    }
   ],
   "source": [
    "base_url = 'http://www.ipoipo.cn/search.php?q=%E9%9B%B6%E5%94%AE'\n",
    "html = get_html(base_url)\n",
    "out = pd.DataFrame([get_xpath(_) for _ in [title,subtitle,pic,createdata,detail_url,reading]]).T\n",
    "out.columns = ['title','subtitle','pic','createdata','detail_url','reading']\n",
    "out['downloadurl']= out['detail_url'].map(lambda x:x.replace('post','download').replace('www.ipoipo.cn','ipoipo.net'))"
   ]
  },
  {
   "cell_type": "code",
   "execution_count": null,
   "metadata": {},
   "outputs": [],
   "source": [
    "out['zip_downloadurl']= out['downloadurl'].map(lambda x:get_two_download_url(x))\n",
    "out['file_path'] = out['zip_downloadurl'].map(lambda x:'H://file_semirpro//'+os.path.basenamename(x))"
   ]
  },
  {
   "cell_type": "code",
   "execution_count": 139,
   "metadata": {},
   "outputs": [
    {
     "data": {
      "text/plain": [
       "[('H://file_semirpro//201907261109208386381.zip',\n",
       "  <http.client.HTTPMessage at 0x21d7f0ff588>),\n",
       " ('H://file_semirpro//201907011561940926135593.zip',\n",
       "  <http.client.HTTPMessage at 0x21d7f0ff390>),\n",
       " ('H://file_semirpro//201907221548467377911.zip',\n",
       "  <http.client.HTTPMessage at 0x21d7e7ee278>),\n",
       " ('H://file_semirpro//201906241561343484187052.zip',\n",
       "  <http.client.HTTPMessage at 0x21d7de09f98>),\n",
       " ('H://file_semirpro//201907241426371597091.zip',\n",
       "  <http.client.HTTPMessage at 0x21d7f109198>),\n",
       " ('H://file_semirpro//201907231301197590246.zip',\n",
       "  <http.client.HTTPMessage at 0x21d7f109390>),\n",
       " ('H://file_semirpro//201906241561341203140299.zip',\n",
       "  <http.client.HTTPMessage at 0x21d7f109588>),\n",
       " ('H://file_semirpro//201907230845106704972.zip',\n",
       "  <http.client.HTTPMessage at 0x21d7f109780>),\n",
       " ('H://file_semirpro//201906191560928799207729.zip',\n",
       "  <http.client.HTTPMessage at 0x21d7f109978>),\n",
       " ('H://file_semirpro//201907221526478908139.zip',\n",
       "  <http.client.HTTPMessage at 0x21d7f109b70>),\n",
       " ('H://file_semirpro//201907230816025324730.zip',\n",
       "  <http.client.HTTPMessage at 0x21d7f109d68>),\n",
       " ('H://file_semirpro//201906171560760568212723.zip',\n",
       "  <http.client.HTTPMessage at 0x21d7f109f60>),\n",
       " ('H://file_semirpro//201907081225069919829.zip',\n",
       "  <http.client.HTTPMessage at 0x21d7f107198>),\n",
       " ('H://file_semirpro//201907161015508195863.zip',\n",
       "  <http.client.HTTPMessage at 0x21d7f107390>),\n",
       " ('H://file_semirpro//201906171560754486103468.zip',\n",
       "  <http.client.HTTPMessage at 0x21d7f107588>),\n",
       " ('H://file_semirpro//201907151224369820546.zip',\n",
       "  <http.client.HTTPMessage at 0x21d7f107780>),\n",
       " ('H://file_semirpro//201906171560749361217317.zip',\n",
       "  <http.client.HTTPMessage at 0x21d7f107978>),\n",
       " ('H://file_semirpro//201906171560748658148183.zip',\n",
       "  <http.client.HTTPMessage at 0x21d7f107b70>),\n",
       " ('H://file_semirpro//201906171560748602583270.zip',\n",
       "  <http.client.HTTPMessage at 0x21d7f0ff7b8>),\n",
       " ('H://file_semirpro//201907081207465935420.zip',\n",
       "  <http.client.HTTPMessage at 0x21d7f109cc0>)]"
      ]
     },
     "execution_count": 139,
     "metadata": {},
     "output_type": "execute_result"
    }
   ],
   "source": [
    "[_ for _ in map(lambda x,y:urllib.request.urlretrieve(x,y),out['zip_downloadurl'].tolist(),out['file_path'].tolist())]"
   ]
  },
  {
   "cell_type": "code",
   "execution_count": 4,
   "metadata": {
    "scrolled": true
   },
   "outputs": [],
   "source": [
    "def get_html(url = base_url):\n",
    "    res = requests.get(base_url)\n",
    "    html = etree.HTML(res.text)\n",
    "    return html\n",
    "def get_xpath(turn,ori):\n",
    "    if turn:\n",
    "        return ori.xpath(turn)\n",
    "    else:\n",
    "        return ''\n",
    "    \n",
    "def get_two_download_url(url):\n",
    "    html_two = requests.get(url).text\n",
    "    url = etree.HTML(html_two).xpath('//a/@href')[1]\n",
    "    return url\n",
    "\n",
    "\n",
    "title = '//*[@id=\"imgbox\"]/div/h2/a/@title'\n",
    "subtitle ='//*[@id=\"imgbox\"]/div/p[2]/text()'\n",
    "pic  = ' //*[@id=\"imgbox\"]/div//img/@src'\n",
    "createdata  = '//*[@id=\"imgbox\"]/div//span[2]/text()'\n",
    "detail_url = '//*[@id=\"imgbox\"]/div/h2/a/@href'\n",
    "reading = '//*[@id=\"imgbox\"]/div//span[1]/text()'"
   ]
  },
  {
   "cell_type": "code",
   "execution_count": null,
   "metadata": {},
   "outputs": [],
   "source": [
    "t title //*[@id=\"imgbox\"]/div/h2/a/@title\n",
    "t subtitle   //*[@id=\"imgbox\"]/div/p[2]/text()\n",
    "t  pic     //*[@id=\"imgbox\"]/div//img/@src\n",
    "t createdata  //*[@id=\"imgbox\"]/div//span[2]/text()\n",
    "t detail_url //*[@id=\"imgbox\"]/div/h2/a/@href\n",
    "t reading //*[@id=\"imgbox\"]/div//span[1]/text()\n",
    "# http://www.ipoipo.cn/post/5437.html\n",
    "# http://ipoipo.net/download/5437.html\n",
    "# http://ipoipo.cn/zb_users/upload/2019/07/201907101303524495385.zip\n",
    "turn from post download_url  //*[@id=\"contentleft\"]//a[contains(@class,\"dlp-btn\")]/@href\n",
    "download_zip  /html/body//div[@class='con main']//a/@href"
   ]
  },
  {
   "cell_type": "code",
   "execution_count": 2,
   "metadata": {},
   "outputs": [
    {
     "data": {
      "text/plain": [
       "1"
      ]
     },
     "execution_count": 2,
     "metadata": {},
     "output_type": "execute_result"
    }
   ],
   "source": [
    "from __init__ import a\n",
    "a"
   ]
  }
 ],
 "metadata": {
  "kernelspec": {
   "display_name": "Python 3",
   "language": "python",
   "name": "python3"
  },
  "language_info": {
   "codemirror_mode": {
    "name": "ipython",
    "version": 3
   },
   "file_extension": ".py",
   "mimetype": "text/x-python",
   "name": "python",
   "nbconvert_exporter": "python",
   "pygments_lexer": "ipython3",
   "version": "3.6.7"
  }
 },
 "nbformat": 4,
 "nbformat_minor": 2
}
