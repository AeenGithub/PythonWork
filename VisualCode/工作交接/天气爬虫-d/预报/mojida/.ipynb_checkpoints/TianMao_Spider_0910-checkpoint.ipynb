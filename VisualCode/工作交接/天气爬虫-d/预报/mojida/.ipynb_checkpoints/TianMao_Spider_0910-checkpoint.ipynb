{
 "cells": [
  {
   "cell_type": "code",
   "execution_count": 1,
   "metadata": {},
   "outputs": [],
   "source": [
    "# coding:utf-8"
   ]
  },
  {
   "cell_type": "code",
   "execution_count": 2,
   "metadata": {},
   "outputs": [],
   "source": [
    "import urllib,urllib.request,sys,json\n",
    "import pandas as pd\n",
    "import os\n",
    "import socket\n",
    "import hashlib\n",
    "import time\n",
    "# timeout in seconds\n",
    "from functools import reduce\n",
    "import urllib,urllib.request,sys,json\n",
    "import pandas as pd\n",
    "import os\n",
    "import socket\n",
    "import hashlib\n",
    "import time\n",
    "from lxml import etree\n",
    "from lxml.etree import HTMLParser\n",
    "# timeout in seconds\n",
    "from functools import reduce\n",
    "import requests\n",
    "timeout = 5\n",
    "socket.setdefaulttimeout(timeout)\n",
    "\n",
    "\n",
    "def stock_data(url):\n",
    "    try:\n",
    "        headers = { \n",
    "                            'Connection':'keep-alive',\n",
    "                            'Cache-Control':'max-age=0',\n",
    "                            'Accept': 'text/html, */*; q=0.01',\n",
    "                            'X-Requested-With': 'XMLHttpRequest',\n",
    "                            'User-Agent': 'Mozilla/5.0 (X11; Linux x86_64) AppleWebKit/537.36 (KHTML, like Gecko) Chrome/41.0.2272.89 Safari/537.36',\n",
    "                            'DNT':'1',\n",
    "                            'Referer': 'http://example.com/',\n",
    "                            'Accept-Encoding': 'gzip, deflate, sdch',\n",
    "                            'Accept-Language': 'zh-CN,zh;q=0.8,ja;q=0.6'\n",
    "                  }\n",
    "#         request = urllib.request.Request(url, headers) #15days\n",
    "#         response = urllib.request.urlopen(request)\n",
    "#         content = response.read()\n",
    "        res = requests.get(url,headers= headers)\n",
    "        #分割数据，给city赋值的同时返回data。\n",
    "        json_data = json_text = etree.tostring(etree.HTML(res.text,etree.HTMLParser()),encoding=\"unicode\").replace(\"<html><body><p>\",\"\").replace(\"</p></body></html>\",\"\")\n",
    "        return json_data\n",
    "    except Exception as e:\n",
    "        print (e)\n",
    "    \n",
    "\n",
    "def write_json(data,path):\n",
    "    with open(path,'w+') as f:\n",
    "        f.write(str(data))\n",
    "        print(path)\n",
    "        print('writeing')\n",
    "\n",
    "def read_json(path):\n",
    "    with open(path,'r',encoding='gbk') as f:\n",
    "        tem = f.read()\n",
    "        print(path)\n",
    "    return tem\n",
    "\n",
    "\n",
    "def parse_json(path):\n",
    "    try:\n",
    "        pd.read_json(json.loads(read_json(path))).get('')\n",
    "    except:\n",
    "        pd_tem = pd.DataFrame(columns=['area','detail','favRate','name','logo','keywords','ids','isMall','urls','totalSold'])\n",
    "    return pd_tem\n",
    "\n",
    "def get_all_stock_url(base_url,i):\n",
    "    return [base_url + str(_) for _ in range(1,i) ]"
   ]
  },
  {
   "cell_type": "code",
   "execution_count": 3,
   "metadata": {},
   "outputs": [],
   "source": [
    "base_urls = [\n",
    "    'https://nikekids.m.tmall.com/shop/shop_auction_search.do?spm=a320p.7692171.0.0.151f4e82NRQO2x&suid=3728394127&sort=d&page_size=12&from=h5&shop_id=570682523&ajson=1&_tm_source=tmallsearch&callback=jsonp_17966883&p=',\n",
    "    'https://underarmour.m.tmall.com/shop/shop_auction_search.do?spm=a320p.7692171.0.0.77637c091WuZ2E&suid=1940724523&sort=d&page_size=12&from=h5&shop_id=108148339&ajson=1&_tm_source=tmallsearch&callback=jsonp_268981&p=',\n",
    "    'https://antakids.m.tmall.com/shop/shop_auction_search.do?spm=a2141.7631565.0.0.5ff35af2lMTsQZ&suid=1745656365&sort=d&page_size=12&from=h5&shop_id=106096685&ajson=1&_tm_source=tmallsearch&callback=jsonp_14392729&p=',\n",
    "    'https://adidaskids.m.tmall.com/shop/shop_auction_search.do?spm=a2141.7631565.0.0.7015d16dJR2PmN&suid=4085990900&sort=d&page_size=12&from=h5&shop_id=380440003&ajson=1&_tm_source=tmallsearch&callback=jsonp_87456591&p='\n",
    "]\n",
    "base_nums = [\n",
    "    16,\n",
    "    78,\n",
    "    66,\n",
    "    22\n",
    "]"
   ]
  },
  {
   "cell_type": "code",
   "execution_count": null,
   "metadata": {},
   "outputs": [],
   "source": [
    "map"
   ]
  }
 ],
 "metadata": {
  "kernelspec": {
   "display_name": "Python 3",
   "language": "python",
   "name": "python3"
  },
  "language_info": {
   "codemirror_mode": {
    "name": "ipython",
    "version": 3
   },
   "file_extension": ".py",
   "mimetype": "text/x-python",
   "name": "python",
   "nbconvert_exporter": "python",
   "pygments_lexer": "ipython3",
   "version": "3.6.7"
  }
 },
 "nbformat": 4,
 "nbformat_minor": 2
}
