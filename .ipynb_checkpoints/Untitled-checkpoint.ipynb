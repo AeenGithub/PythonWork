{
 "cells": [
  {
   "cell_type": "code",
   "execution_count": 1,
   "metadata": {},
   "outputs": [],
   "source": [
    "import pandas as pd\n",
    "import numpy as np\n",
    "import os\n",
    "#import re\n",
    "import xlwings as xw\n",
    "\n",
    "# os.system('taskkill /F /IM EXCEL.exe')\n",
    "app = xw.App(visible=True, add_book=False)\n",
    "app.display_alters = False\n",
    "app.screen_updating = True"
   ]
  },
  {
   "cell_type": "code",
   "execution_count": 2,
   "metadata": {},
   "outputs": [],
   "source": [
    "path = r'D:\\文档\\表格\\工资数据\\安徽浩缘朋\\工资'\n",
    "os.listdir(path)\n",
    "path_lst = [os.path.join(path,i) for i in os.listdir(path)]\n"
   ]
  },
  {
   "cell_type": "code",
   "execution_count": 21,
   "metadata": {},
   "outputs": [
    {
     "data": {
      "text/plain": [
       "['序号',\n",
       " '部门',\n",
       " '单位',\n",
       " '班组',\n",
       " '工号',\n",
       " '姓名',\n",
       " '职务',\n",
       " '产值',\n",
       " '调整',\n",
       " '产量工资',\n",
       " '产量奖金',\n",
       " '满勤补贴',\n",
       " '伙食补贴',\n",
       " '生产补贴',\n",
       " '其他加给',\n",
       " '应发合计',\n",
       " '其他扣款',\n",
       " '借款',\n",
       " '生产扣款',\n",
       " '行政扣款',\n",
       " '考勤扣款',\n",
       " '水电费',\n",
       " '社保',\n",
       " '所得税',\n",
       " '应扣工资',\n",
       " '应扣合计',\n",
       " '请假天数',\n",
       " '旷工天数',\n",
       " '出勤天数',\n",
       " '实发工资',\n",
       " '结余奖金',\n",
       " '备注']"
      ]
     },
     "execution_count": 21,
     "metadata": {},
     "output_type": "execute_result"
    }
   ],
   "source": [
    "xb = app.books.open(path_lst[0])\n",
    "sht_2 = pd.DataFrame(xb.sheets['固定工资'].range('a3:ag2000').value)\n",
    "sht_2.drop([11, 25], axis=1, inplace=True)\n",
    "# sht.columns = ['序号','部门','单位', '班组','工号','姓名','职务','产量工资',\n",
    "#                '产量奖金','满勤补贴','伙食补贴', '生产补贴','其他加给','应发合计','其他扣款', \n",
    "#                '借款', '生产扣款', '行政扣款', '考勤扣款', '水电费', '社保', '所得税', '应扣工资', \n",
    "#                '应扣合计', '请假天数', '旷工天数', '出勤天数', '实发工资', '结余奖金', '备注']\n",
    "\n",
    "# sht.columns\n",
    "# a = ['序号','部门','单位', '班组','工号','姓名','职务','产量工资',\n",
    "#      '产量奖金','满勤补贴','伙食补贴', '生产补贴','其他加给','应发合计','其他扣款', \n",
    "#      '借款', '生产扣款', '行政扣款', '考勤扣款', '水电费', '社保', '所得税', '应扣工资', \n",
    "#      '应扣合计', '请假天数', '旷工天数', '出勤天数', '实发工资', '结余奖金', '备注']\n",
    "sht_1 = pd.DataFrame(xb.sheets['计件工资'].range('a3:ag2000').value)\n",
    "sht_1.columns = \n",
    "sht_2.columns = sht_1.loc[0].tolist()[:-1]"
   ]
  },
  {
   "cell_type": "code",
   "execution_count": 15,
   "metadata": {},
   "outputs": [
    {
     "data": {
      "text/plain": [
       "31"
      ]
     },
     "execution_count": 15,
     "metadata": {},
     "output_type": "execute_result"
    }
   ],
   "source": []
  },
  {
   "cell_type": "code",
   "execution_count": null,
   "metadata": {},
   "outputs": [],
   "source": []
  }
 ],
 "metadata": {
  "kernelspec": {
   "display_name": "Python 3",
   "language": "python",
   "name": "python3"
  },
  "language_info": {
   "codemirror_mode": {
    "name": "ipython",
    "version": 3
   },
   "file_extension": ".py",
   "mimetype": "text/x-python",
   "name": "python",
   "nbconvert_exporter": "python",
   "pygments_lexer": "ipython3",
   "version": "3.6.3"
  }
 },
 "nbformat": 4,
 "nbformat_minor": 2
}
